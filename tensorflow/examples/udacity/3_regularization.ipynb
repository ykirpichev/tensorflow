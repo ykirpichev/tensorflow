{
 "cells": [
  {
   "cell_type": "markdown",
   "metadata": {
    "colab_type": "text",
    "id": "kR-4eNdK6lYS"
   },
   "source": [
    "Deep Learning\n",
    "=============\n",
    "\n",
    "Assignment 3\n",
    "------------\n",
    "\n",
    "Previously in `2_fullyconnected.ipynb`, you trained a logistic regression and a neural network model.\n",
    "\n",
    "The goal of this assignment is to explore regularization techniques."
   ]
  },
  {
   "cell_type": "code",
   "execution_count": 17,
   "metadata": {
    "cellView": "both",
    "colab": {
     "autoexec": {
      "startup": false,
      "wait_interval": 0
     }
    },
    "colab_type": "code",
    "collapsed": true,
    "id": "JLpLa8Jt7Vu4"
   },
   "outputs": [],
   "source": [
    "# These are all the modules we'll be using later. Make sure you can import them\n",
    "# before proceeding further.\n",
    "from __future__ import print_function\n",
    "import numpy as np\n",
    "import tensorflow as tf\n",
    "from six.moves import cPickle as pickle"
   ]
  },
  {
   "cell_type": "markdown",
   "metadata": {
    "colab_type": "text",
    "id": "1HrCK6e17WzV"
   },
   "source": [
    "First reload the data we generated in `1_notmnist.ipynb`."
   ]
  },
  {
   "cell_type": "code",
   "execution_count": 18,
   "metadata": {
    "cellView": "both",
    "colab": {
     "autoexec": {
      "startup": false,
      "wait_interval": 0
     },
     "output_extras": [
      {
       "item_id": 1
      }
     ]
    },
    "colab_type": "code",
    "executionInfo": {
     "elapsed": 11777,
     "status": "ok",
     "timestamp": 1449849322348,
     "user": {
      "color": "",
      "displayName": "",
      "isAnonymous": false,
      "isMe": true,
      "permissionId": "",
      "photoUrl": "",
      "sessionId": "0",
      "userId": ""
     },
     "user_tz": 480
    },
    "id": "y3-cj1bpmuxc",
    "outputId": "e03576f1-ebbe-4838-c388-f1777bcc9873"
   },
   "outputs": [
    {
     "name": "stdout",
     "output_type": "stream",
     "text": [
      "Training set (200000, 28, 28) (200000,)\n",
      "Validation set (10000, 28, 28) (10000,)\n",
      "Test set (10000, 28, 28) (10000,)\n"
     ]
    }
   ],
   "source": [
    "pickle_file = 'notMNIST.pickle'\n",
    "\n",
    "with open(pickle_file, 'rb') as f:\n",
    "  save = pickle.load(f)\n",
    "  train_dataset = save['train_dataset']\n",
    "  train_labels = save['train_labels']\n",
    "  valid_dataset = save['valid_dataset']\n",
    "  valid_labels = save['valid_labels']\n",
    "  test_dataset = save['test_dataset']\n",
    "  test_labels = save['test_labels']\n",
    "  del save  # hint to help gc free up memory\n",
    "  print('Training set', train_dataset.shape, train_labels.shape)\n",
    "  print('Validation set', valid_dataset.shape, valid_labels.shape)\n",
    "  print('Test set', test_dataset.shape, test_labels.shape)"
   ]
  },
  {
   "cell_type": "markdown",
   "metadata": {
    "colab_type": "text",
    "id": "L7aHrm6nGDMB"
   },
   "source": [
    "Reformat into a shape that's more adapted to the models we're going to train:\n",
    "- data as a flat matrix,\n",
    "- labels as float 1-hot encodings."
   ]
  },
  {
   "cell_type": "code",
   "execution_count": 19,
   "metadata": {
    "cellView": "both",
    "colab": {
     "autoexec": {
      "startup": false,
      "wait_interval": 0
     },
     "output_extras": [
      {
       "item_id": 1
      }
     ]
    },
    "colab_type": "code",
    "executionInfo": {
     "elapsed": 11728,
     "status": "ok",
     "timestamp": 1449849322356,
     "user": {
      "color": "",
      "displayName": "",
      "isAnonymous": false,
      "isMe": true,
      "permissionId": "",
      "photoUrl": "",
      "sessionId": "0",
      "userId": ""
     },
     "user_tz": 480
    },
    "id": "IRSyYiIIGIzS",
    "outputId": "3f8996ee-3574-4f44-c953-5c8a04636582"
   },
   "outputs": [
    {
     "name": "stdout",
     "output_type": "stream",
     "text": [
      "Training set (200000, 784) (200000, 10)\n",
      "Validation set (10000, 784) (10000, 10)\n",
      "Test set (10000, 784) (10000, 10)\n"
     ]
    }
   ],
   "source": [
    "image_size = 28\n",
    "num_labels = 10\n",
    "\n",
    "def reformat(dataset, labels):\n",
    "  dataset = dataset.reshape((-1, image_size * image_size)).astype(np.float32)\n",
    "  # Map 1 to [0.0, 1.0, 0.0 ...], 2 to [0.0, 0.0, 1.0 ...]\n",
    "  labels = (np.arange(num_labels) == labels[:,None]).astype(np.float32)\n",
    "  return dataset, labels\n",
    "train_dataset, train_labels = reformat(train_dataset, train_labels)\n",
    "valid_dataset, valid_labels = reformat(valid_dataset, valid_labels)\n",
    "test_dataset, test_labels = reformat(test_dataset, test_labels)\n",
    "print('Training set', train_dataset.shape, train_labels.shape)\n",
    "print('Validation set', valid_dataset.shape, valid_labels.shape)\n",
    "print('Test set', test_dataset.shape, test_labels.shape)"
   ]
  },
  {
   "cell_type": "code",
   "execution_count": 20,
   "metadata": {
    "cellView": "both",
    "colab": {
     "autoexec": {
      "startup": false,
      "wait_interval": 0
     }
    },
    "colab_type": "code",
    "collapsed": true,
    "id": "RajPLaL_ZW6w"
   },
   "outputs": [],
   "source": [
    "def accuracy(predictions, labels):\n",
    "  return (100.0 * np.sum(np.argmax(predictions, 1) == np.argmax(labels, 1))\n",
    "          / predictions.shape[0])"
   ]
  },
  {
   "cell_type": "code",
   "execution_count": 32,
   "metadata": {},
   "outputs": [],
   "source": [
    "import tensorflow as tf\n",
    "\n",
    "batch_size = 128\n",
    "image_size = 28\n",
    "num_labels = 10\n",
    "\n",
    "graph = tf.Graph()\n",
    "\n",
    "num_hidden = 1024\n",
    "\n",
    "with graph.as_default():\n",
    "\n",
    "  # Input data. For the training data, we use a placeholder that will be fed\n",
    "  # at run time with a training minibatch.\n",
    "  tf_dataset = tf.placeholder(tf.float32, shape=(None, image_size * image_size))\n",
    "  tf_labels = tf.placeholder(tf.float32, shape=(None, num_labels))\n",
    "  \n",
    "  # Variables.\n",
    "  weights_1 = tf.Variable(\n",
    "    tf.truncated_normal([image_size * image_size, num_hidden]))\n",
    "  biases_1 = tf.Variable(tf.zeros([num_hidden]))\n",
    "  \n",
    "  # Training computation.\n",
    "  hidden_1 = tf.matmul(tf_dataset, weights_1) + biases_1\n",
    "\n",
    "  relu = tf.nn.relu(hidden_1)\n",
    "    \n",
    "  # Variables.\n",
    "  weights_2 = tf.Variable(\n",
    "    tf.truncated_normal([num_hidden, num_labels]))\n",
    "  biases_2 = tf.Variable(tf.zeros([num_labels]))\n",
    "\n",
    "  logits = tf.matmul(relu, weights_2) + biases_2\n",
    "\n",
    "  \n",
    "  loss = tf.reduce_mean(\n",
    "    tf.nn.softmax_cross_entropy_with_logits(labels=tf_labels, logits=logits))\n",
    "  \n",
    "  # Optimizer.\n",
    "  optimizer = tf.train.AdadeltaOptimizer(0.5).minimize(loss)\n",
    "  \n",
    "  # Predictions for the training, validation, and test data.\n",
    "  prediction = tf.nn.softmax(logits)"
   ]
  },
  {
   "cell_type": "markdown",
   "metadata": {
    "colab_type": "text",
    "id": "sgLbUAQ1CW-1"
   },
   "source": [
    "---\n",
    "Problem 1\n",
    "---------\n",
    "\n",
    "Introduce and tune L2 regularization for both logistic and neural network models. Remember that L2 amounts to adding a penalty on the norm of the weights to the loss. In TensorFlow, you can compute the L2 loss for a tensor `t` using `nn.l2_loss(t)`. The right amount of regularization should improve your validation / test accuracy.\n",
    "\n",
    "---"
   ]
  },
  {
   "cell_type": "code",
   "execution_count": 33,
   "metadata": {},
   "outputs": [],
   "source": [
    "with graph.as_default():\n",
    "    loss = (tf.reduce_mean(\n",
    "        tf.nn.softmax_cross_entropy_with_logits(labels=tf_labels, logits=logits))\n",
    "        + (0.01 * (tf.nn.l2_loss(weights_1)\n",
    "                  + tf.nn.l2_loss(biases_1)\n",
    "                  + tf.nn.l2_loss(weights_2)\n",
    "                  + tf.nn.l2_loss(biases_2))))\n"
   ]
  },
  {
   "cell_type": "code",
   "execution_count": 34,
   "metadata": {},
   "outputs": [
    {
     "name": "stdout",
     "output_type": "stream",
     "text": [
      "Initialized\n",
      "Minibatch loss at step 0: 3445.638672\n",
      "Minibatch accuracy: 8.6%\n",
      "Validation accuracy: 9.0%\n",
      "Minibatch loss at step 500: 3163.969482\n",
      "Minibatch accuracy: 71.9%\n",
      "Validation accuracy: 71.3%\n",
      "Minibatch loss at step 1000: 3176.345215\n",
      "Minibatch accuracy: 74.2%\n",
      "Validation accuracy: 75.3%\n",
      "Minibatch loss at step 1500: 3150.068115\n",
      "Minibatch accuracy: 83.6%\n",
      "Validation accuracy: 77.1%\n",
      "Minibatch loss at step 2000: 3154.066406\n",
      "Minibatch accuracy: 82.0%\n",
      "Validation accuracy: 78.2%\n",
      "Minibatch loss at step 2500: 3150.784668\n",
      "Minibatch accuracy: 82.0%\n",
      "Validation accuracy: 78.7%\n",
      "Minibatch loss at step 3000: 3149.597412\n",
      "Minibatch accuracy: 78.9%\n",
      "Validation accuracy: 79.2%\n",
      "Test accuracy: 86.8%\n"
     ]
    }
   ],
   "source": [
    "num_steps = 3001\n",
    "\n",
    "with tf.Session(graph=graph) as session:\n",
    "  tf.global_variables_initializer().run()\n",
    "  print(\"Initialized\")\n",
    "  for step in range(num_steps):\n",
    "    # Pick an offset within the training data, which has been randomized.\n",
    "    # Note: we could use better randomization across epochs.\n",
    "    offset = (step * batch_size) % (train_labels.shape[0] - batch_size)\n",
    "    # Generate a minibatch.\n",
    "    batch_data = train_dataset[offset:(offset + batch_size), :]\n",
    "    batch_labels = train_labels[offset:(offset + batch_size), :]\n",
    "    # Prepare a dictionary telling the session where to feed the minibatch.\n",
    "    # The key of the dictionary is the placeholder node of the graph to be fed,\n",
    "    # and the value is the numpy array to feed to it.\n",
    "    feed_dict = {tf_dataset : batch_data, tf_labels : batch_labels}\n",
    "    _, l, predictions = session.run(\n",
    "      [optimizer, loss, prediction], feed_dict=feed_dict)\n",
    "    if (step % 500 == 0):\n",
    "      print(\"Minibatch loss at step %d: %f\" % (step, l))\n",
    "      print(\"Minibatch accuracy: %.1f%%\" % accuracy(predictions, batch_labels))\n",
    "      print(\"Validation accuracy: %.1f%%\" % accuracy(\n",
    "        session.run(prediction, feed_dict={tf_dataset: valid_dataset}), valid_labels))\n",
    "  print(\"Test accuracy: %.1f%%\" % accuracy(\n",
    "      session.run(prediction, feed_dict={tf_dataset: test_dataset}),\n",
    "      test_labels))"
   ]
  },
  {
   "cell_type": "markdown",
   "metadata": {
    "colab_type": "text",
    "id": "na8xX2yHZzNF"
   },
   "source": [
    "---\n",
    "Problem 2\n",
    "---------\n",
    "Let's demonstrate an extreme case of overfitting. Restrict your training data to just a few batches. What happens?\n",
    "\n",
    "---"
   ]
  },
  {
   "cell_type": "code",
   "execution_count": 35,
   "metadata": {},
   "outputs": [
    {
     "name": "stdout",
     "output_type": "stream",
     "text": [
      "Initialized\n",
      "Minibatch loss at step 0: 3497.681396\n",
      "Minibatch accuracy: 8.6%\n",
      "Validation accuracy: 7.3%\n",
      "Minibatch loss at step 500: 3142.918457\n",
      "Minibatch accuracy: 100.0%\n",
      "Validation accuracy: 23.5%\n",
      "Minibatch loss at step 1000: 3142.917725\n",
      "Minibatch accuracy: 100.0%\n",
      "Validation accuracy: 23.6%\n",
      "Minibatch loss at step 1500: 3142.917236\n",
      "Minibatch accuracy: 100.0%\n",
      "Validation accuracy: 23.6%\n",
      "Minibatch loss at step 2000: 3142.917236\n",
      "Minibatch accuracy: 100.0%\n",
      "Validation accuracy: 23.6%\n",
      "Minibatch loss at step 2500: 3142.917236\n",
      "Minibatch accuracy: 100.0%\n",
      "Validation accuracy: 23.7%\n",
      "Minibatch loss at step 3000: 3142.917236\n",
      "Minibatch accuracy: 100.0%\n",
      "Validation accuracy: 23.7%\n",
      "Test accuracy: 26.9%\n"
     ]
    }
   ],
   "source": [
    "num_steps = 3001\n",
    "\n",
    "small_train_dataset = train_dataset[0:256, :]\n",
    "small_train_labels = train_labels[0:256, :]\n",
    "\n",
    "with tf.Session(graph=graph) as session:\n",
    "  tf.global_variables_initializer().run()\n",
    "  print(\"Initialized\")\n",
    "  for step in range(num_steps):\n",
    "    # Pick an offset within the training data, which has been randomized.\n",
    "    # Note: we could use better randomization across epochs.\n",
    "    offset = (step * batch_size) % (small_train_labels.shape[0] - batch_size)\n",
    "    # Generate a minibatch.\n",
    "    batch_data = small_train_dataset[offset:(offset + batch_size), :]\n",
    "    batch_labels = small_train_labels[offset:(offset + batch_size), :]\n",
    "    # Prepare a dictionary telling the session where to feed the minibatch.\n",
    "    # The key of the dictionary is the placeholder node of the graph to be fed,\n",
    "    # and the value is the numpy array to feed to it.\n",
    "    feed_dict = {tf_dataset : batch_data, tf_labels : batch_labels}\n",
    "    _, l, predictions = session.run(\n",
    "      [optimizer, loss, prediction], feed_dict=feed_dict)\n",
    "    if (step % 500 == 0):\n",
    "      print(\"Minibatch loss at step %d: %f\" % (step, l))\n",
    "      print(\"Minibatch accuracy: %.1f%%\" % accuracy(predictions, batch_labels))\n",
    "      print(\"Validation accuracy: %.1f%%\" % accuracy(\n",
    "        session.run(prediction, feed_dict={tf_dataset: valid_dataset}), valid_labels))\n",
    "  print(\"Test accuracy: %.1f%%\" % accuracy(\n",
    "      session.run(prediction, feed_dict={tf_dataset: test_dataset}),\n",
    "      test_labels))"
   ]
  },
  {
   "cell_type": "markdown",
   "metadata": {
    "colab_type": "text",
    "id": "ww3SCBUdlkRc"
   },
   "source": [
    "---\n",
    "Problem 3\n",
    "---------\n",
    "Introduce Dropout on the hidden layer of the neural network. Remember: Dropout should only be introduced during training, not evaluation, otherwise your evaluation results would be stochastic as well. TensorFlow provides `nn.dropout()` for that, but you have to make sure it's only inserted during training.\n",
    "\n",
    "What happens to our extreme overfitting case?\n",
    "\n",
    "---"
   ]
  },
  {
   "cell_type": "code",
   "execution_count": 36,
   "metadata": {
    "collapsed": true
   },
   "outputs": [],
   "source": [
    "with graph.as_default():\n",
    "\n",
    "  # Input data. For the training data, we use a placeholder that will be fed\n",
    "  # at run time with a training minibatch.\n",
    "  tf_dataset = tf.placeholder(tf.float32, shape=(None, image_size * image_size))\n",
    "  tf_labels = tf.placeholder(tf.float32, shape=(None, num_labels))\n",
    "  keep_prob = tf.placeholder(tf.float32)\n",
    "  \n",
    "  # Variables.\n",
    "  weights_1 = tf.Variable(\n",
    "    tf.truncated_normal([image_size * image_size, num_hidden]))\n",
    "  biases_1 = tf.Variable(tf.zeros([num_hidden]))\n",
    "  \n",
    "  # Training computation.\n",
    "  hidden_1 = tf.matmul(tf_dataset, weights_1) + biases_1\n",
    "\n",
    "  relu = tf.nn.relu(hidden_1)\n",
    "  relu = tf.nn.dropout(relu, keep_prob)\n",
    "    \n",
    "  # Variables.\n",
    "  weights_2 = tf.Variable(\n",
    "    tf.truncated_normal([num_hidden, num_labels]))\n",
    "  biases_2 = tf.Variable(tf.zeros([num_labels]))\n",
    "\n",
    "  logits = tf.matmul(relu, weights_2) + biases_2\n",
    "\n",
    "  \n",
    "  loss = tf.reduce_mean(\n",
    "    tf.nn.softmax_cross_entropy_with_logits(labels=tf_labels, logits=logits))\n",
    "  \n",
    "  # Optimizer.\n",
    "  optimizer = tf.train.AdadeltaOptimizer(0.5).minimize(loss)\n",
    "  \n",
    "  # Predictions for the training, validation, and test data.\n",
    "  prediction = tf.nn.softmax(logits)\n"
   ]
  },
  {
   "cell_type": "code",
   "execution_count": 37,
   "metadata": {},
   "outputs": [
    {
     "name": "stdout",
     "output_type": "stream",
     "text": [
      "Initialized\n",
      "Minibatch loss at step 0: 486.647369\n",
      "Minibatch accuracy: 11.7%\n",
      "Validation accuracy: 4.7%\n",
      "Minibatch loss at step 500: 23.057465\n",
      "Minibatch accuracy: 82.8%\n",
      "Validation accuracy: 61.5%\n",
      "Minibatch loss at step 1000: 9.101736\n",
      "Minibatch accuracy: 96.9%\n",
      "Validation accuracy: 65.2%\n",
      "Minibatch loss at step 1500: 4.787258\n",
      "Minibatch accuracy: 98.4%\n",
      "Validation accuracy: 66.4%\n",
      "Minibatch loss at step 2000: 2.035488\n",
      "Minibatch accuracy: 98.4%\n",
      "Validation accuracy: 66.9%\n",
      "Minibatch loss at step 2500: 0.000000\n",
      "Minibatch accuracy: 100.0%\n",
      "Validation accuracy: 67.2%\n",
      "Minibatch loss at step 3000: 0.586149\n",
      "Minibatch accuracy: 98.4%\n",
      "Validation accuracy: 67.2%\n",
      "Test accuracy: 73.7%\n"
     ]
    }
   ],
   "source": [
    "num_steps = 3001\n",
    "\n",
    "small_train_dataset = train_dataset[0:256, :]\n",
    "small_train_labels = train_labels[0:256, :]\n",
    "\n",
    "with tf.Session(graph=graph) as session:\n",
    "  tf.global_variables_initializer().run()\n",
    "  print(\"Initialized\")\n",
    "  for step in range(num_steps):\n",
    "    # Pick an offset within the training data, which has been randomized.\n",
    "    # Note: we could use better randomization across epochs.\n",
    "    offset = (step * batch_size) % (small_train_labels.shape[0] - batch_size)\n",
    "    # Generate a minibatch.\n",
    "    batch_data = small_train_dataset[offset:(offset + batch_size), :]\n",
    "    batch_labels = small_train_labels[offset:(offset + batch_size), :]\n",
    "    # Prepare a dictionary telling the session where to feed the minibatch.\n",
    "    # The key of the dictionary is the placeholder node of the graph to be fed,\n",
    "    # and the value is the numpy array to feed to it.\n",
    "    feed_dict = {tf_dataset : batch_data, tf_labels : batch_labels, keep_prob : 0.5}\n",
    "    _, l, predictions = session.run(\n",
    "      [optimizer, loss, prediction], feed_dict=feed_dict)\n",
    "    if (step % 500 == 0):\n",
    "      print(\"Minibatch loss at step %d: %f\" % (step, l))\n",
    "      print(\"Minibatch accuracy: %.1f%%\" % accuracy(predictions, batch_labels))\n",
    "      print(\"Validation accuracy: %.1f%%\" % accuracy(\n",
    "        session.run(prediction, feed_dict={tf_dataset: valid_dataset, keep_prob : 1.0}), valid_labels))\n",
    "  print(\"Test accuracy: %.1f%%\" % accuracy(\n",
    "      session.run(prediction, feed_dict={tf_dataset: test_dataset, keep_prob : 1.0}),\n",
    "      test_labels))"
   ]
  },
  {
   "cell_type": "markdown",
   "metadata": {
    "colab_type": "text",
    "id": "-b1hTz3VWZjw"
   },
   "source": [
    "---\n",
    "Problem 4\n",
    "---------\n",
    "\n",
    "Try to get the best performance you can using a multi-layer model! The best reported test accuracy using a deep network is [97.1%](http://yaroslavvb.blogspot.com/2011/09/notmnist-dataset.html?showComment=1391023266211#c8758720086795711595).\n",
    "\n",
    "One avenue you can explore is to add multiple layers.\n",
    "\n",
    "Another one is to use learning rate decay:\n",
    "\n",
    "    global_step = tf.Variable(0)  # count the number of steps taken.\n",
    "    learning_rate = tf.train.exponential_decay(0.5, global_step, ...)\n",
    "    optimizer = tf.train.GradientDescentOptimizer(learning_rate).minimize(loss, global_step=global_step)\n",
    " \n",
    " ---\n"
   ]
  },
  {
   "cell_type": "code",
   "execution_count": null,
   "metadata": {},
   "outputs": [
    {
     "name": "stdout",
     "output_type": "stream",
     "text": [
      "Initialized\n",
      "Minibatch loss at step 0: 529.793213\n",
      "Minibatch accuracy: 9.4%\n",
      "Validation accuracy: 11.0%\n",
      "Minibatch loss at step 500: 88.466080\n",
      "Minibatch accuracy: 64.1%\n",
      "Validation accuracy: 75.4%\n",
      "Minibatch loss at step 1000: 90.203468\n",
      "Minibatch accuracy: 70.3%\n",
      "Validation accuracy: 79.0%\n",
      "Minibatch loss at step 1500: 70.643806\n",
      "Minibatch accuracy: 71.9%\n",
      "Validation accuracy: 80.3%\n",
      "Minibatch loss at step 2000: 49.993103\n",
      "Minibatch accuracy: 80.5%\n",
      "Validation accuracy: 81.2%\n",
      "Minibatch loss at step 2500: 89.594543\n",
      "Minibatch accuracy: 73.4%\n",
      "Validation accuracy: 81.9%\n",
      "Minibatch loss at step 3000: 73.237701\n",
      "Minibatch accuracy: 75.0%\n",
      "Validation accuracy: 82.3%\n",
      "Minibatch loss at step 3500: 59.720356\n",
      "Minibatch accuracy: 74.2%\n",
      "Validation accuracy: 82.6%\n",
      "Minibatch loss at step 4000: 55.701530\n",
      "Minibatch accuracy: 80.5%\n",
      "Validation accuracy: 82.8%\n",
      "Minibatch loss at step 4500: 45.068100\n",
      "Minibatch accuracy: 76.6%\n",
      "Validation accuracy: 83.1%\n",
      "Minibatch loss at step 5000: 50.597542\n",
      "Minibatch accuracy: 76.6%\n",
      "Validation accuracy: 83.2%\n",
      "Minibatch loss at step 5500: 43.790749\n",
      "Minibatch accuracy: 79.7%\n",
      "Validation accuracy: 83.4%\n",
      "Minibatch loss at step 6000: 41.637337\n",
      "Minibatch accuracy: 77.3%\n",
      "Validation accuracy: 83.4%\n",
      "Minibatch loss at step 6500: 30.973221\n",
      "Minibatch accuracy: 83.6%\n",
      "Validation accuracy: 83.7%\n",
      "Minibatch loss at step 7000: 37.653572\n",
      "Minibatch accuracy: 77.3%\n",
      "Validation accuracy: 83.7%\n",
      "Minibatch loss at step 7500: 40.399605\n",
      "Minibatch accuracy: 77.3%\n",
      "Validation accuracy: 83.9%\n",
      "Minibatch loss at step 8000: 67.619354\n",
      "Minibatch accuracy: 67.2%\n",
      "Validation accuracy: 83.9%\n",
      "Minibatch loss at step 8500: 32.899666\n",
      "Minibatch accuracy: 82.8%\n",
      "Validation accuracy: 83.8%\n",
      "Minibatch loss at step 9000: 46.005951\n",
      "Minibatch accuracy: 73.4%\n",
      "Validation accuracy: 84.0%\n",
      "Minibatch loss at step 9500: 44.869732\n",
      "Minibatch accuracy: 78.1%\n",
      "Validation accuracy: 84.0%\n",
      "Minibatch loss at step 10000: 42.866219\n",
      "Minibatch accuracy: 76.6%\n",
      "Validation accuracy: 84.1%\n",
      "Minibatch loss at step 10500: 33.927742\n",
      "Minibatch accuracy: 79.7%\n",
      "Validation accuracy: 84.0%\n",
      "Minibatch loss at step 11000: 34.640388\n",
      "Minibatch accuracy: 76.6%\n",
      "Validation accuracy: 84.0%\n",
      "Minibatch loss at step 11500: 46.493622\n",
      "Minibatch accuracy: 79.7%\n",
      "Validation accuracy: 84.2%\n",
      "Minibatch loss at step 12000: 34.377445\n",
      "Minibatch accuracy: 74.2%\n",
      "Validation accuracy: 84.1%\n",
      "Minibatch loss at step 12500: 34.615074\n",
      "Minibatch accuracy: 80.5%\n",
      "Validation accuracy: 84.2%\n",
      "Minibatch loss at step 13000: 33.229885\n",
      "Minibatch accuracy: 79.7%\n",
      "Validation accuracy: 84.3%\n",
      "Minibatch loss at step 13500: 26.778633\n",
      "Minibatch accuracy: 75.8%\n",
      "Validation accuracy: 84.3%\n",
      "Minibatch loss at step 14000: 26.779449\n",
      "Minibatch accuracy: 74.2%\n",
      "Validation accuracy: 84.3%\n",
      "Minibatch loss at step 14500: 34.056091\n",
      "Minibatch accuracy: 77.3%\n",
      "Validation accuracy: 84.4%\n",
      "Minibatch loss at step 15000: 20.110279\n",
      "Minibatch accuracy: 82.0%\n",
      "Validation accuracy: 84.4%\n",
      "Minibatch loss at step 15500: 23.392040\n",
      "Minibatch accuracy: 73.4%\n",
      "Validation accuracy: 84.3%\n",
      "Minibatch loss at step 16000: 33.543137\n",
      "Minibatch accuracy: 82.8%\n",
      "Validation accuracy: 84.5%\n",
      "Minibatch loss at step 16500: 22.510176\n",
      "Minibatch accuracy: 82.8%\n",
      "Validation accuracy: 84.3%\n",
      "Minibatch loss at step 17000: 23.624952\n",
      "Minibatch accuracy: 80.5%\n",
      "Validation accuracy: 84.5%\n",
      "Minibatch loss at step 17500: 10.877333\n",
      "Minibatch accuracy: 82.8%\n",
      "Validation accuracy: 84.7%\n",
      "Minibatch loss at step 18000: 25.405083\n",
      "Minibatch accuracy: 82.0%\n",
      "Validation accuracy: 84.6%\n",
      "Minibatch loss at step 18500: 24.042814\n",
      "Minibatch accuracy: 78.1%\n",
      "Validation accuracy: 84.6%\n",
      "Minibatch loss at step 19000: 11.645812\n",
      "Minibatch accuracy: 83.6%\n",
      "Validation accuracy: 84.7%\n",
      "Minibatch loss at step 19500: 30.082966\n",
      "Minibatch accuracy: 81.2%\n",
      "Validation accuracy: 84.7%\n",
      "Minibatch loss at step 20000: 27.126278\n",
      "Minibatch accuracy: 74.2%\n",
      "Validation accuracy: 84.6%\n",
      "Minibatch loss at step 20500: 27.464401\n",
      "Minibatch accuracy: 80.5%\n",
      "Validation accuracy: 84.7%\n",
      "Minibatch loss at step 21000: 18.948511\n",
      "Minibatch accuracy: 76.6%\n",
      "Validation accuracy: 84.8%\n",
      "Minibatch loss at step 21500: 17.988094\n",
      "Minibatch accuracy: 81.2%\n",
      "Validation accuracy: 84.9%\n",
      "Minibatch loss at step 22000: 15.520231\n",
      "Minibatch accuracy: 83.6%\n",
      "Validation accuracy: 84.8%\n",
      "Minibatch loss at step 22500: 19.588188\n",
      "Minibatch accuracy: 73.4%\n",
      "Validation accuracy: 84.8%\n",
      "Minibatch loss at step 23000: 18.548050\n",
      "Minibatch accuracy: 80.5%\n",
      "Validation accuracy: 84.9%\n",
      "Minibatch loss at step 23500: 16.803520\n",
      "Minibatch accuracy: 85.2%\n",
      "Validation accuracy: 84.7%\n",
      "Minibatch loss at step 24000: 16.667580\n",
      "Minibatch accuracy: 83.6%\n",
      "Validation accuracy: 84.9%\n",
      "Minibatch loss at step 24500: 17.463984\n",
      "Minibatch accuracy: 80.5%\n",
      "Validation accuracy: 84.8%\n",
      "Minibatch loss at step 25000: 22.033649\n",
      "Minibatch accuracy: 79.7%\n",
      "Validation accuracy: 84.9%\n",
      "Minibatch loss at step 25500: 20.847656\n",
      "Minibatch accuracy: 79.7%\n",
      "Validation accuracy: 85.0%\n",
      "Minibatch loss at step 26000: 30.755566\n",
      "Minibatch accuracy: 79.7%\n",
      "Validation accuracy: 85.0%\n",
      "Minibatch loss at step 26500: 23.788813\n",
      "Minibatch accuracy: 82.0%\n",
      "Validation accuracy: 85.0%\n",
      "Minibatch loss at step 27000: 10.526743\n",
      "Minibatch accuracy: 79.7%\n",
      "Validation accuracy: 85.1%\n",
      "Minibatch loss at step 27500: 28.715561\n",
      "Minibatch accuracy: 76.6%\n",
      "Validation accuracy: 85.1%\n",
      "Minibatch loss at step 28000: 22.581474\n",
      "Minibatch accuracy: 78.1%\n",
      "Validation accuracy: 84.8%\n",
      "Minibatch loss at step 28500: 13.883596\n",
      "Minibatch accuracy: 80.5%\n",
      "Validation accuracy: 85.1%\n",
      "Minibatch loss at step 29000: 14.964802\n",
      "Minibatch accuracy: 78.1%\n",
      "Validation accuracy: 85.2%\n",
      "Minibatch loss at step 29500: 20.504896\n",
      "Minibatch accuracy: 82.8%\n",
      "Validation accuracy: 85.3%\n",
      "Minibatch loss at step 30000: 21.544611\n",
      "Minibatch accuracy: 84.4%\n",
      "Validation accuracy: 85.1%\n",
      "Minibatch loss at step 30500: 15.708578\n",
      "Minibatch accuracy: 82.8%\n",
      "Validation accuracy: 85.2%\n",
      "Minibatch loss at step 31000: 17.029856\n",
      "Minibatch accuracy: 78.9%\n",
      "Validation accuracy: 85.2%\n",
      "Minibatch loss at step 31500: 16.734154\n",
      "Minibatch accuracy: 79.7%\n",
      "Validation accuracy: 85.2%\n",
      "Minibatch loss at step 32000: 15.028335\n",
      "Minibatch accuracy: 84.4%\n",
      "Validation accuracy: 85.2%\n",
      "Minibatch loss at step 32500: 15.368235\n",
      "Minibatch accuracy: 75.0%\n",
      "Validation accuracy: 85.3%\n",
      "Minibatch loss at step 33000: 16.676933\n",
      "Minibatch accuracy: 79.7%\n",
      "Validation accuracy: 85.2%\n",
      "Minibatch loss at step 33500: 11.470017\n",
      "Minibatch accuracy: 85.2%\n",
      "Validation accuracy: 85.2%\n",
      "Minibatch loss at step 34000: 24.772339\n",
      "Minibatch accuracy: 75.8%\n",
      "Validation accuracy: 85.1%\n",
      "Minibatch loss at step 34500: 21.986168\n",
      "Minibatch accuracy: 78.9%\n",
      "Validation accuracy: 85.1%\n",
      "Minibatch loss at step 35000: 8.861040\n",
      "Minibatch accuracy: 84.4%\n",
      "Validation accuracy: 85.2%\n",
      "Minibatch loss at step 35500: 16.212708\n",
      "Minibatch accuracy: 82.0%\n",
      "Validation accuracy: 85.2%\n",
      "Minibatch loss at step 36000: 12.779125\n",
      "Minibatch accuracy: 74.2%\n",
      "Validation accuracy: 85.2%\n"
     ]
    }
   ],
   "source": [
    "num_steps = 65001\n",
    "with tf.Session(graph=graph) as session:\n",
    "  tf.global_variables_initializer().run()\n",
    "  print(\"Initialized\")\n",
    "  for step in range(num_steps):\n",
    "    # Pick an offset within the training data, which has been randomized.\n",
    "    # Note: we could use better randomization across epochs.\n",
    "    offset = (step * batch_size) % (train_labels.shape[0] - batch_size)\n",
    "    # Generate a minibatch.\n",
    "    batch_data = train_dataset[offset:(offset + batch_size), :]\n",
    "    batch_labels = train_labels[offset:(offset + batch_size), :]\n",
    "    # Prepare a dictionary telling the session where to feed the minibatch.\n",
    "    # The key of the dictionary is the placeholder node of the graph to be fed,\n",
    "    # and the value is the numpy array to feed to it.\n",
    "    feed_dict = {tf_dataset : batch_data, tf_labels : batch_labels, keep_prob : 0.5}\n",
    "    _, l, predictions = session.run(\n",
    "      [optimizer, loss, prediction], feed_dict=feed_dict)\n",
    "    if (step % 500 == 0):\n",
    "      print(\"Minibatch loss at step %d: %f\" % (step, l))\n",
    "      print(\"Minibatch accuracy: %.1f%%\" % accuracy(predictions, batch_labels))\n",
    "      print(\"Validation accuracy: %.1f%%\" % accuracy(\n",
    "        session.run(prediction, feed_dict={tf_dataset: valid_dataset, keep_prob : 1.0}), valid_labels))\n",
    "  print(\"Test accuracy: %.1f%%\" % accuracy(\n",
    "      session.run(prediction, feed_dict={tf_dataset: test_dataset, keep_prob : 1.0}),\n",
    "      test_labels))"
   ]
  },
  {
   "cell_type": "code",
   "execution_count": null,
   "metadata": {
    "collapsed": true
   },
   "outputs": [],
   "source": []
  }
 ],
 "metadata": {
  "colab": {
   "default_view": {},
   "name": "3_regularization.ipynb",
   "provenance": [],
   "version": "0.3.2",
   "views": {}
  },
  "kernelspec": {
   "display_name": "Python 3",
   "language": "python",
   "name": "python3"
  },
  "language_info": {
   "codemirror_mode": {
    "name": "ipython",
    "version": 3
   },
   "file_extension": ".py",
   "mimetype": "text/x-python",
   "name": "python",
   "nbconvert_exporter": "python",
   "pygments_lexer": "ipython3",
   "version": "3.5.2"
  },
  "widgets": {
   "state": {},
   "version": "1.1.2"
  }
 },
 "nbformat": 4,
 "nbformat_minor": 1
}
