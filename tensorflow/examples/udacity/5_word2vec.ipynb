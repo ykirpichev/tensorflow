{
 "cells": [
  {
   "cell_type": "markdown",
   "metadata": {
    "colab_type": "text",
    "id": "D7tqLMoKF6uq"
   },
   "source": [
    "Deep Learning\n",
    "=============\n",
    "\n",
    "Assignment 5\n",
    "------------\n",
    "\n",
    "The goal of this assignment is to train a Word2Vec skip-gram model over [Text8](http://mattmahoney.net/dc/textdata) data."
   ]
  },
  {
   "cell_type": "code",
   "execution_count": 17,
   "metadata": {
    "cellView": "both",
    "colab": {
     "autoexec": {
      "startup": false,
      "wait_interval": 0
     }
    },
    "colab_type": "code",
    "collapsed": true,
    "id": "0K1ZyLn04QZf"
   },
   "outputs": [],
   "source": [
    "# These are all the modules we'll be using later. Make sure you can import them\n",
    "# before proceeding further.\n",
    "%matplotlib inline\n",
    "from __future__ import print_function\n",
    "import collections\n",
    "import math\n",
    "import numpy as np\n",
    "import os\n",
    "import random\n",
    "import tensorflow as tf\n",
    "import zipfile\n",
    "from matplotlib import pylab\n",
    "from six.moves import range\n",
    "from six.moves.urllib.request import urlretrieve\n",
    "from sklearn.manifold import TSNE"
   ]
  },
  {
   "cell_type": "markdown",
   "metadata": {
    "colab_type": "text",
    "id": "aCjPJE944bkV"
   },
   "source": [
    "Download the data from the source website if necessary."
   ]
  },
  {
   "cell_type": "code",
   "execution_count": 18,
   "metadata": {
    "cellView": "both",
    "colab": {
     "autoexec": {
      "startup": false,
      "wait_interval": 0
     },
     "output_extras": [
      {
       "item_id": 1
      }
     ]
    },
    "colab_type": "code",
    "executionInfo": {
     "elapsed": 14640,
     "status": "ok",
     "timestamp": 1445964482948,
     "user": {
      "color": "#1FA15D",
      "displayName": "Vincent Vanhoucke",
      "isAnonymous": false,
      "isMe": true,
      "permissionId": "05076109866853157986",
      "photoUrl": "//lh6.googleusercontent.com/-cCJa7dTDcgQ/AAAAAAAAAAI/AAAAAAAACgw/r2EZ_8oYer4/s50-c-k-no/photo.jpg",
      "sessionId": "2f1ffade4c9f20de",
      "userId": "102167687554210253930"
     },
     "user_tz": 420
    },
    "id": "RJ-o3UBUFtCw",
    "outputId": "c4ec222c-80b5-4298-e635-93ca9f79c3b7"
   },
   "outputs": [
    {
     "name": "stdout",
     "output_type": "stream",
     "text": [
      "Found and verified text8.zip\n"
     ]
    }
   ],
   "source": [
    "url = 'http://mattmahoney.net/dc/'\n",
    "\n",
    "def maybe_download(filename, expected_bytes):\n",
    "  \"\"\"Download a file if not present, and make sure it's the right size.\"\"\"\n",
    "  if not os.path.exists(filename):\n",
    "    filename, _ = urlretrieve(url + filename, filename)\n",
    "  statinfo = os.stat(filename)\n",
    "  if statinfo.st_size == expected_bytes:\n",
    "    print('Found and verified %s' % filename)\n",
    "  else:\n",
    "    print(statinfo.st_size)\n",
    "    raise Exception(\n",
    "      'Failed to verify ' + filename + '. Can you get to it with a browser?')\n",
    "  return filename\n",
    "\n",
    "filename = maybe_download('text8.zip', 31344016)"
   ]
  },
  {
   "cell_type": "markdown",
   "metadata": {
    "colab_type": "text",
    "id": "Zqz3XiqI4mZT"
   },
   "source": [
    "Read the data into a string."
   ]
  },
  {
   "cell_type": "code",
   "execution_count": 19,
   "metadata": {
    "cellView": "both",
    "colab": {
     "autoexec": {
      "startup": false,
      "wait_interval": 0
     },
     "output_extras": [
      {
       "item_id": 1
      }
     ]
    },
    "colab_type": "code",
    "executionInfo": {
     "elapsed": 28844,
     "status": "ok",
     "timestamp": 1445964497165,
     "user": {
      "color": "#1FA15D",
      "displayName": "Vincent Vanhoucke",
      "isAnonymous": false,
      "isMe": true,
      "permissionId": "05076109866853157986",
      "photoUrl": "//lh6.googleusercontent.com/-cCJa7dTDcgQ/AAAAAAAAAAI/AAAAAAAACgw/r2EZ_8oYer4/s50-c-k-no/photo.jpg",
      "sessionId": "2f1ffade4c9f20de",
      "userId": "102167687554210253930"
     },
     "user_tz": 420
    },
    "id": "Mvf09fjugFU_",
    "outputId": "e3a928b4-1645-4fe8-be17-fcf47de5716d"
   },
   "outputs": [
    {
     "name": "stdout",
     "output_type": "stream",
     "text": [
      "Data size 17005207\n"
     ]
    }
   ],
   "source": [
    "def read_data(filename):\n",
    "  \"\"\"Extract the first file enclosed in a zip file as a list of words\"\"\"\n",
    "  with zipfile.ZipFile(filename) as f:\n",
    "    data = tf.compat.as_str(f.read(f.namelist()[0])).split()\n",
    "  return data\n",
    "  \n",
    "words = read_data(filename)\n",
    "print('Data size %d' % len(words))"
   ]
  },
  {
   "cell_type": "markdown",
   "metadata": {
    "colab_type": "text",
    "id": "Zdw6i4F8glpp"
   },
   "source": [
    "Build the dictionary and replace rare words with UNK token."
   ]
  },
  {
   "cell_type": "code",
   "execution_count": 20,
   "metadata": {
    "cellView": "both",
    "colab": {
     "autoexec": {
      "startup": false,
      "wait_interval": 0
     },
     "output_extras": [
      {
       "item_id": 1
      }
     ]
    },
    "colab_type": "code",
    "executionInfo": {
     "elapsed": 28849,
     "status": "ok",
     "timestamp": 1445964497178,
     "user": {
      "color": "#1FA15D",
      "displayName": "Vincent Vanhoucke",
      "isAnonymous": false,
      "isMe": true,
      "permissionId": "05076109866853157986",
      "photoUrl": "//lh6.googleusercontent.com/-cCJa7dTDcgQ/AAAAAAAAAAI/AAAAAAAACgw/r2EZ_8oYer4/s50-c-k-no/photo.jpg",
      "sessionId": "2f1ffade4c9f20de",
      "userId": "102167687554210253930"
     },
     "user_tz": 420
    },
    "id": "gAL1EECXeZsD",
    "outputId": "3fb4ecd1-df67-44b6-a2dc-2291730970b2"
   },
   "outputs": [
    {
     "name": "stdout",
     "output_type": "stream",
     "text": [
      "Most common words (+UNK) [['UNK', 418391], ('the', 1061396), ('of', 593677), ('and', 416629), ('one', 411764)]\n",
      "Sample data [5235, 3083, 12, 6, 195, 2, 3137, 46, 59, 156]\n"
     ]
    }
   ],
   "source": [
    "vocabulary_size = 50000\n",
    "\n",
    "def build_dataset(words):\n",
    "  count = [['UNK', -1]]\n",
    "  count.extend(collections.Counter(words).most_common(vocabulary_size - 1))\n",
    "  dictionary = dict()\n",
    "  for word, _ in count:\n",
    "    dictionary[word] = len(dictionary)\n",
    "  data = list()\n",
    "  unk_count = 0\n",
    "  for word in words:\n",
    "    if word in dictionary:\n",
    "      index = dictionary[word]\n",
    "    else:\n",
    "      index = 0  # dictionary['UNK']\n",
    "      unk_count = unk_count + 1\n",
    "    data.append(index)\n",
    "  count[0][1] = unk_count\n",
    "  reverse_dictionary = dict(zip(dictionary.values(), dictionary.keys())) \n",
    "  return data, count, dictionary, reverse_dictionary\n",
    "\n",
    "data, count, dictionary, reverse_dictionary = build_dataset(words)\n",
    "print('Most common words (+UNK)', count[:5])\n",
    "print('Sample data', data[:10])\n",
    "del words  # Hint to reduce memory."
   ]
  },
  {
   "cell_type": "markdown",
   "metadata": {
    "colab_type": "text",
    "id": "lFwoyygOmWsL"
   },
   "source": [
    "Function to generate a training batch for the skip-gram model."
   ]
  },
  {
   "cell_type": "code",
   "execution_count": 21,
   "metadata": {
    "cellView": "both",
    "colab": {
     "autoexec": {
      "startup": false,
      "wait_interval": 0
     },
     "output_extras": [
      {
       "item_id": 1
      }
     ]
    },
    "colab_type": "code",
    "executionInfo": {
     "elapsed": 113,
     "status": "ok",
     "timestamp": 1445964901989,
     "user": {
      "color": "#1FA15D",
      "displayName": "Vincent Vanhoucke",
      "isAnonymous": false,
      "isMe": true,
      "permissionId": "05076109866853157986",
      "photoUrl": "//lh6.googleusercontent.com/-cCJa7dTDcgQ/AAAAAAAAAAI/AAAAAAAACgw/r2EZ_8oYer4/s50-c-k-no/photo.jpg",
      "sessionId": "2f1ffade4c9f20de",
      "userId": "102167687554210253930"
     },
     "user_tz": 420
    },
    "id": "w9APjA-zmfjV",
    "outputId": "67cccb02-cdaf-4e47-d489-43bcc8d57bb8"
   },
   "outputs": [
    {
     "name": "stdout",
     "output_type": "stream",
     "text": [
      "data: ['anarchism', 'originated', 'as', 'a', 'term', 'of', 'abuse', 'first']\n",
      "\n",
      "with num_skips = 2 and skip_window = 1:\n",
      "    batch: ['originated', 'originated', 'as', 'as', 'a', 'a', 'term', 'term']\n",
      "    labels: ['anarchism', 'as', 'originated', 'a', 'as', 'term', 'of', 'a']\n",
      "\n",
      "with num_skips = 4 and skip_window = 2:\n",
      "    batch: ['as', 'as', 'as', 'as', 'a', 'a', 'a', 'a']\n",
      "    labels: ['anarchism', 'term', 'originated', 'a', 'term', 'as', 'originated', 'of']\n"
     ]
    }
   ],
   "source": [
    "data_index = 0\n",
    "\n",
    "def generate_batch(batch_size, num_skips, skip_window):\n",
    "  global data_index\n",
    "  assert batch_size % num_skips == 0\n",
    "  assert num_skips <= 2 * skip_window\n",
    "  batch = np.ndarray(shape=(batch_size), dtype=np.int32)\n",
    "  labels = np.ndarray(shape=(batch_size, 1), dtype=np.int32)\n",
    "  span = 2 * skip_window + 1 # [ skip_window target skip_window ]\n",
    "  buffer = collections.deque(maxlen=span)\n",
    "  for _ in range(span):\n",
    "    buffer.append(data[data_index])\n",
    "    data_index = (data_index + 1) % len(data)\n",
    "  for i in range(batch_size // num_skips):\n",
    "    target = skip_window  # target label at the center of the buffer\n",
    "    targets_to_avoid = [ skip_window ]\n",
    "    for j in range(num_skips):\n",
    "      while target in targets_to_avoid:\n",
    "        target = random.randint(0, span - 1)\n",
    "      targets_to_avoid.append(target)\n",
    "      batch[i * num_skips + j] = buffer[skip_window]\n",
    "      labels[i * num_skips + j, 0] = buffer[target]\n",
    "    buffer.append(data[data_index])\n",
    "    data_index = (data_index + 1) % len(data)\n",
    "  return batch, labels\n",
    "\n",
    "print('data:', [reverse_dictionary[di] for di in data[:8]])\n",
    "\n",
    "for num_skips, skip_window in [(2, 1), (4, 2)]:\n",
    "    data_index = 0\n",
    "    batch, labels = generate_batch(batch_size=8, num_skips=num_skips, skip_window=skip_window)\n",
    "    print('\\nwith num_skips = %d and skip_window = %d:' % (num_skips, skip_window))\n",
    "    print('    batch:', [reverse_dictionary[bi] for bi in batch])\n",
    "    print('    labels:', [reverse_dictionary[li] for li in labels.reshape(8)])"
   ]
  },
  {
   "cell_type": "markdown",
   "metadata": {
    "colab_type": "text",
    "id": "Ofd1MbBuwiva"
   },
   "source": [
    "Train a skip-gram model."
   ]
  },
  {
   "cell_type": "code",
   "execution_count": 23,
   "metadata": {
    "cellView": "both",
    "colab": {
     "autoexec": {
      "startup": false,
      "wait_interval": 0
     }
    },
    "colab_type": "code",
    "id": "8pQKsV4Vwlzy"
   },
   "outputs": [
    {
     "name": "stdout",
     "output_type": "stream",
     "text": [
      "(128, 128)\n",
      "(50000, 128)\n",
      "(128, 1)\n",
      "(50000, 128)\n",
      "(50000, 1)\n",
      "(16, 50000)\n",
      "(16, 128)\n",
      "(50000, 128)\n"
     ]
    }
   ],
   "source": [
    "batch_size = 128\n",
    "embedding_size = 128 # Dimension of the embedding vector.\n",
    "skip_window = 1 # How many words to consider left and right.\n",
    "num_skips = 2 # How many times to reuse an input to generate a label.\n",
    "# We pick a random validation set to sample nearest neighbors. here we limit the\n",
    "# validation samples to the words that have a low numeric ID, which by\n",
    "# construction are also the most frequent. \n",
    "valid_size = 16 # Random set of words to evaluate similarity on.\n",
    "valid_window = 100 # Only pick dev samples in the head of the distribution.\n",
    "valid_examples = np.array(random.sample(range(valid_window), valid_size))\n",
    "num_sampled = 64 # Number of negative examples to sample.\n",
    "\n",
    "graph = tf.Graph()\n",
    "\n",
    "with graph.as_default(), tf.device('/cpu:0'):\n",
    "\n",
    "  # Input data.\n",
    "  train_dataset = tf.placeholder(tf.int32, shape=[batch_size])\n",
    "  train_labels = tf.placeholder(tf.int32, shape=[batch_size, 1])\n",
    "  valid_dataset = tf.constant(valid_examples, dtype=tf.int32)\n",
    "  \n",
    "  # Variables.\n",
    "  embeddings = tf.Variable(\n",
    "    tf.random_uniform([vocabulary_size, embedding_size], -1.0, 1.0))\n",
    "  softmax_weights = tf.Variable(\n",
    "    tf.truncated_normal([vocabulary_size, embedding_size],\n",
    "                         stddev=1.0 / math.sqrt(embedding_size)))\n",
    "  softmax_biases = tf.Variable(tf.zeros([vocabulary_size]))\n",
    "  \n",
    "  # Model.\n",
    "  # Look up embeddings for inputs.\n",
    "  embed = tf.nn.embedding_lookup(embeddings, train_dataset)\n",
    "  print(embed.shape)\n",
    "  print(softmax_weights.shape)\n",
    "  print(train_labels.shape)\n",
    "  # Compute the softmax loss, using a sample of the negative labels each time.\n",
    "  loss = tf.reduce_mean(\n",
    "    tf.nn.sampled_softmax_loss(weights=softmax_weights, biases=softmax_biases, inputs=embed,\n",
    "                               labels=train_labels, num_sampled=num_sampled, num_classes=vocabulary_size))\n",
    "\n",
    "  # Optimizer.\n",
    "  # Note: The optimizer will optimize the softmax_weights AND the embeddings.\n",
    "  # This is because the embeddings are defined as a variable quantity and the\n",
    "  # optimizer's `minimize` method will by default modify all variable quantities \n",
    "  # that contribute to the tensor it is passed.\n",
    "  # See docs on `tf.train.Optimizer.minimize()` for more details.\n",
    "  optimizer = tf.train.AdagradOptimizer(1.0).minimize(loss)\n",
    "  \n",
    "  # Compute the similarity between minibatch examples and all embeddings.\n",
    "  # We use the cosine distance:\n",
    "  norm = tf.sqrt(tf.reduce_sum(tf.square(embeddings), 1, keep_dims=True))\n",
    "  print(embeddings.shape)\n",
    "  print(norm.shape)\n",
    "  normalized_embeddings = embeddings / norm\n",
    "  valid_embeddings = tf.nn.embedding_lookup(\n",
    "    normalized_embeddings, valid_dataset)\n",
    "  similarity = tf.matmul(valid_embeddings, tf.transpose(normalized_embeddings))\n",
    "  print(similarity.shape)\n",
    "  print(valid_embeddings.shape)\n",
    "  print(normalized_embeddings.shape)"
   ]
  },
  {
   "cell_type": "code",
   "execution_count": 26,
   "metadata": {
    "cellView": "both",
    "colab": {
     "autoexec": {
      "startup": false,
      "wait_interval": 0
     },
     "output_extras": [
      {
       "item_id": 23
      },
      {
       "item_id": 48
      },
      {
       "item_id": 61
      }
     ]
    },
    "colab_type": "code",
    "executionInfo": {
     "elapsed": 436189,
     "status": "ok",
     "timestamp": 1445965429787,
     "user": {
      "color": "#1FA15D",
      "displayName": "Vincent Vanhoucke",
      "isAnonymous": false,
      "isMe": true,
      "permissionId": "05076109866853157986",
      "photoUrl": "//lh6.googleusercontent.com/-cCJa7dTDcgQ/AAAAAAAAAAI/AAAAAAAACgw/r2EZ_8oYer4/s50-c-k-no/photo.jpg",
      "sessionId": "2f1ffade4c9f20de",
      "userId": "102167687554210253930"
     },
     "user_tz": 420
    },
    "id": "1bQFGceBxrWW",
    "outputId": "5ebd6d9a-33c6-4bcd-bf6d-252b0b6055e4"
   },
   "outputs": [
    {
     "name": "stdout",
     "output_type": "stream",
     "text": [
      "Initialized\n",
      "Average loss at step 0: 7.717620\n",
      "Nearest to about: drifting, interpreted, stahl, diagnostics, fading, hamper, fraud, zygote,\n",
      "Nearest to so: formulas, crozier, overtaking, acquaintance, whorf, commentary, quartering, deprived,\n",
      "Nearest to which: feminist, holism, sunlight, comit, morphologically, wounds, visualize, lavin,\n",
      "Nearest to system: orca, malays, atalh, clicked, majlis, instantly, chapin, lecter,\n",
      "Nearest to his: flopped, lucent, supernatural, typhus, pseudoscience, lammas, bounces, navigating,\n",
      "Nearest to some: despot, ode, robust, hari, musculoskeletal, kirkpatrick, amicable, ordinary,\n",
      "Nearest to there: zi, coq, gamete, kristofferson, languedoc, critiques, quite, anthropos,\n",
      "Nearest to can: ugle, departing, memorably, kingsbridge, fortuitous, thinks, portfolios, msg,\n",
      "Nearest to that: rotates, millay, moroni, fridays, bodmin, distro, governance, galbraith,\n",
      "Nearest to during: lfar, happiness, eventually, buyers, lubricants, relativism, scientology, mitotic,\n",
      "Nearest to three: incumbent, fights, fax, marina, incapable, dou, tocantins, mike,\n",
      "Nearest to six: respectability, ferromagnetism, braxton, condoned, stabilize, frustrations, cornelis, istv,\n",
      "Nearest to when: merci, reclaimed, malice, vivaldi, ortho, chats, educational, violates,\n",
      "Nearest to new: things, regia, undermining, bioko, evidenced, powers, katal, arendt,\n",
      "Nearest to no: ira, unobservable, sza, vanguard, favourably, liebig, bathroom, bundaberg,\n",
      "Nearest to for: bbses, hook, dry, crucified, tashkent, huntington, wasn, hemispheric,\n",
      "Average loss at step 2000: 4.309236\n",
      "Average loss at step 4000: 3.849250\n",
      "Average loss at step 6000: 3.750075\n",
      "Average loss at step 8000: 3.724654\n",
      "Average loss at step 10000: 3.661845\n",
      "Nearest to about: interpreted, day, clinics, zygote, regulus, ragged, collapsing, conflict,\n",
      "Nearest to so: cork, sackville, acquaintance, whorf, varieties, validating, runs, drawn,\n",
      "Nearest to which: also, wounds, that, this, who, it, comit, feminist,\n",
      "Nearest to system: orca, crusader, pleistocene, malays, strongly, shahanshah, albion, mgm,\n",
      "Nearest to his: her, their, its, the, s, out, laura, supernatural,\n",
      "Nearest to some: many, randomness, yemen, industrious, csp, imperatoribus, chao, hypnotism,\n",
      "Nearest to there: it, they, also, she, westcott, brodsky, these, still,\n",
      "Nearest to can: could, ugle, would, should, will, slovakia, accomplice, to,\n",
      "Nearest to that: this, which, but, rotates, when, zeus, still, blaylock,\n",
      "Nearest to during: in, from, of, higgs, at, loop, happiness, absolute,\n",
      "Nearest to three: four, seven, five, six, two, eight, nine, zero,\n",
      "Nearest to six: seven, four, five, eight, three, nine, zero, two,\n",
      "Nearest to when: merci, that, after, crews, vivaldi, mistletoe, ortho, reclaimed,\n",
      "Nearest to new: cover, bioko, fleischmann, unlock, eutelsat, powers, bova, permafrost,\n",
      "Nearest to no: ira, eum, sza, samoan, cbs, dramatised, informally, contribute,\n",
      "Nearest to for: of, with, on, in, localised, by, huntington, to,\n",
      "Average loss at step 12000: 3.670548\n",
      "Average loss at step 14000: 3.542974\n",
      "Average loss at step 16000: 3.431583\n",
      "Average loss at step 18000: 3.572329\n",
      "Average loss at step 20000: 3.541074\n",
      "Nearest to about: interpreted, clinics, day, regulus, pleasure, zygote, geq, branson,\n",
      "Nearest to so: sackville, drawn, episodic, varieties, whorf, cork, validating, theosophy,\n",
      "Nearest to which: this, that, it, also, who, often, primus, refracted,\n",
      "Nearest to system: lead, uthman, ul, jacobean, orca, pays, mgm, scare,\n",
      "Nearest to his: her, their, its, the, mahayana, out, laura, forwards,\n",
      "Nearest to some: many, these, all, several, most, the, yemen, madelyne,\n",
      "Nearest to there: they, it, she, he, westcott, fearing, seward, hetzel,\n",
      "Nearest to can: may, would, will, could, should, must, cannot, ugle,\n",
      "Nearest to that: which, this, lodgings, but, however, undertakings, when, what,\n",
      "Nearest to during: after, from, at, in, higgs, kee, absolute, gwen,\n",
      "Nearest to three: five, four, two, seven, six, eight, zero, nine,\n",
      "Nearest to six: seven, eight, five, four, nine, three, zero, two,\n",
      "Nearest to when: after, if, was, that, until, where, though, mistletoe,\n",
      "Nearest to new: cover, bioko, eutelsat, permafrost, arendt, unlock, autonomous, aged,\n",
      "Nearest to no: samoan, now, a, another, ira, outdoors, eum, compare,\n",
      "Nearest to for: huntington, redundantly, sheltered, raaf, by, eduke, dictate, or,\n",
      "Average loss at step 22000: 3.516055\n",
      "Average loss at step 24000: 3.526563\n",
      "Average loss at step 26000: 3.532349\n",
      "Average loss at step 28000: 3.473895\n",
      "Average loss at step 30000: 3.454831\n",
      "Nearest to about: interpreted, clinics, glossy, day, accumulated, regulus, branson, zygote,\n",
      "Nearest to so: cork, theosophy, varieties, sackville, runs, kart, subterfuge, episodic,\n",
      "Nearest to which: that, this, it, also, these, comit, based, often,\n",
      "Nearest to system: uthman, pays, aquifer, fleshed, shahanshah, jacobean, lead, orca,\n",
      "Nearest to his: her, their, its, my, the, s, kristeva, statism,\n",
      "Nearest to some: many, these, several, all, most, any, inspectors, this,\n",
      "Nearest to there: they, it, he, fearing, westcott, she, usually, often,\n",
      "Nearest to can: may, will, would, could, should, must, cannot, might,\n",
      "Nearest to that: which, this, however, because, but, what, when, currently,\n",
      "Nearest to during: after, in, when, of, from, at, under, higgs,\n",
      "Nearest to three: four, six, seven, five, eight, two, nine, one,\n",
      "Nearest to six: four, seven, five, eight, three, nine, two, zero,\n",
      "Nearest to when: after, where, if, during, until, though, then, that,\n",
      "Nearest to new: cover, permafrost, autonomous, fay, eutelsat, aged, steno, arendt,\n",
      "Nearest to no: samoan, another, now, fdr, fossilized, outdoors, ime, bathroom,\n",
      "Nearest to for: against, of, after, by, ultimatum, with, and, bodkin,\n",
      "Average loss at step 32000: 3.181434\n",
      "Average loss at step 34000: 3.362857\n",
      "Average loss at step 36000: 3.442761\n",
      "Average loss at step 38000: 3.307724\n",
      "Average loss at step 40000: 3.408508\n",
      "Nearest to about: interpreted, glossy, regulus, geq, clinics, accumulated, bitola, branson,\n",
      "Nearest to so: episodic, varieties, sackville, theosophy, subterfuge, cork, genealogies, orbital,\n",
      "Nearest to which: this, that, also, alphabetic, but, what, cheering, who,\n",
      "Nearest to system: systems, uthman, fleshed, dulcimer, thorax, csicop, adjusted, jacobean,\n",
      "Nearest to his: her, their, its, the, my, s, csp, enforces,\n",
      "Nearest to some: many, several, these, all, any, various, most, their,\n",
      "Nearest to there: they, it, he, she, fearing, often, westcott, we,\n",
      "Nearest to can: could, will, would, may, should, must, cannot, might,\n",
      "Nearest to that: which, however, but, what, when, also, where, endings,\n",
      "Nearest to during: after, in, at, when, from, until, on, under,\n",
      "Nearest to three: four, five, two, seven, eight, six, nine, zero,\n",
      "Nearest to six: seven, eight, five, four, nine, three, two, zero,\n",
      "Nearest to when: after, if, before, where, during, though, ribbentrop, although,\n",
      "Nearest to new: eutelsat, cover, permafrost, huge, rashid, degraded, bioko, vagus,\n",
      "Nearest to no: fdr, fossilized, now, a, any, another, ime, bertolucci,\n",
      "Nearest to for: against, of, in, with, after, sheltered, and, carlyle,\n",
      "Average loss at step 42000: 3.489508\n",
      "Average loss at step 44000: 3.434670\n",
      "Average loss at step 46000: 3.352436\n",
      "Average loss at step 48000: 3.310192\n",
      "Average loss at step 50000: 3.426335\n",
      "Nearest to about: interpreted, regulus, glossy, bitola, clinics, frankenheimer, lada, ragged,\n",
      "Nearest to so: too, episodic, however, subterfuge, varieties, theosophy, sackville, payback,\n",
      "Nearest to which: that, this, it, also, what, still, usually, afghani,\n",
      "Nearest to system: systems, cellular, fleshed, jacobean, uthman, supplier, transnistrian, caria,\n",
      "Nearest to his: her, their, its, my, the, our, enforces, csp,\n",
      "Nearest to some: many, these, several, various, any, all, their, other,\n",
      "Nearest to there: they, it, he, she, we, typically, often, westcott,\n",
      "Nearest to can: could, will, may, would, should, must, cannot, might,\n",
      "Nearest to that: which, however, what, this, usually, who, because, it,\n",
      "Nearest to during: in, at, after, when, under, before, pantheist, gwen,\n",
      "Nearest to three: four, five, two, six, seven, eight, zero, nine,\n",
      "Nearest to six: four, seven, five, eight, nine, three, two, zero,\n",
      "Nearest to when: if, before, after, although, where, during, though, while,\n",
      "Nearest to new: cover, rashid, eutelsat, degraded, anc, rhine, developers, medley,\n",
      "Nearest to no: fdr, fossilized, kuna, outdoors, zseries, chambered, pixel, bertolucci,\n",
      "Nearest to for: electro, conjunctive, and, including, englewood, against, redundantly, buchanan,\n"
     ]
    },
    {
     "name": "stdout",
     "output_type": "stream",
     "text": [
      "Average loss at step 52000: 3.454300\n",
      "Average loss at step 54000: 3.457375\n",
      "Average loss at step 56000: 3.392468\n",
      "Average loss at step 58000: 3.354184\n",
      "Average loss at step 60000: 3.399697\n",
      "Nearest to about: glossy, snowmobile, regulus, bitola, kids, botany, pleasure, maneuver,\n",
      "Nearest to so: too, apps, bartle, focuses, genealogies, subterfuge, payback, acquaintance,\n",
      "Nearest to which: that, this, who, what, usually, also, welcome, often,\n",
      "Nearest to system: systems, uthman, fleshed, cellular, linspire, caria, iho, jacobean,\n",
      "Nearest to his: her, their, its, my, our, the, s, edema,\n",
      "Nearest to some: many, several, these, various, most, any, all, those,\n",
      "Nearest to there: they, it, he, she, we, often, typically, usually,\n",
      "Nearest to can: could, may, will, would, should, cannot, must, might,\n",
      "Nearest to that: which, what, however, where, who, then, she, therefore,\n",
      "Nearest to during: after, in, under, at, on, from, before, within,\n",
      "Nearest to three: four, seven, six, five, two, nine, eight, one,\n",
      "Nearest to six: four, seven, five, eight, three, nine, zero, two,\n",
      "Nearest to when: if, after, where, before, though, while, although, until,\n",
      "Nearest to new: rashid, cover, degraded, huge, different, eutelsat, devising, unlock,\n",
      "Nearest to no: any, fdr, kuna, another, there, incorrect, pediatrics, fossilized,\n",
      "Nearest to for: and, from, against, including, bodkin, multicultural, without, salk,\n",
      "Average loss at step 62000: 3.342147\n",
      "Average loss at step 64000: 3.368485\n",
      "Average loss at step 66000: 3.344719\n",
      "Average loss at step 68000: 3.315349\n",
      "Average loss at step 70000: 3.258802\n",
      "Nearest to about: regulus, over, glossy, kids, salinity, gamespy, botany, wannsee,\n",
      "Nearest to so: too, apps, thus, subterfuge, payback, furious, diefenbaker, extremadura,\n",
      "Nearest to which: that, this, who, what, usually, welcome, these, it,\n",
      "Nearest to system: systems, cellular, fleshed, linspire, supplier, caria, adjusted, jacobean,\n",
      "Nearest to his: her, their, its, my, our, the, s, your,\n",
      "Nearest to some: many, several, these, various, both, any, all, their,\n",
      "Nearest to there: they, it, he, she, we, now, however, typically,\n",
      "Nearest to can: may, could, would, will, should, cannot, must, might,\n",
      "Nearest to that: which, however, what, but, where, because, when, hyperbolic,\n",
      "Nearest to during: in, after, under, before, by, at, when, from,\n",
      "Nearest to three: four, six, seven, five, eight, nine, two, zero,\n",
      "Nearest to six: seven, eight, four, five, nine, three, zero, two,\n",
      "Nearest to when: if, before, where, after, while, though, during, although,\n",
      "Nearest to new: rashid, eutelsat, vest, cover, rhine, huge, unlock, degraded,\n",
      "Nearest to no: fdr, any, sex, fossilized, a, ogg, kuna, rp,\n",
      "Nearest to for: after, if, against, during, to, although, when, since,\n",
      "Average loss at step 72000: 3.282342\n",
      "Average loss at step 74000: 3.351132\n",
      "Average loss at step 76000: 3.343534\n",
      "Average loss at step 78000: 3.324387\n",
      "Average loss at step 80000: 3.339329\n",
      "Nearest to about: regulus, over, glossy, bitola, jurors, domestically, favorite, maneuver,\n",
      "Nearest to so: too, if, apps, thus, furious, payback, focuses, then,\n",
      "Nearest to which: that, this, these, also, what, often, usually, but,\n",
      "Nearest to system: systems, cellular, fleshed, linspire, supplier, intergalactic, mpeg, program,\n",
      "Nearest to his: her, their, its, my, our, the, s, kristeva,\n",
      "Nearest to some: many, several, these, various, all, both, any, most,\n",
      "Nearest to there: they, it, he, we, now, usually, she, often,\n",
      "Nearest to can: could, will, may, would, should, cannot, must, might,\n",
      "Nearest to that: which, however, what, this, often, but, prolong, hyperbolic,\n",
      "Nearest to during: after, under, in, before, when, at, until, pantheist,\n",
      "Nearest to three: four, two, five, six, seven, eight, nine, zero,\n",
      "Nearest to six: seven, eight, four, nine, five, three, zero, two,\n",
      "Nearest to when: if, where, though, before, after, while, during, although,\n",
      "Nearest to new: rashid, different, eutelsat, virtual, degraded, huge, rhine, learners,\n",
      "Nearest to no: any, fdr, sex, there, fossilized, kuna, ime, refutation,\n",
      "Nearest to for: if, of, bendis, in, superluminal, after, magee, including,\n",
      "Average loss at step 82000: 3.337643\n",
      "Average loss at step 84000: 3.386824\n",
      "Average loss at step 86000: 3.355030\n",
      "Average loss at step 88000: 3.362070\n",
      "Average loss at step 90000: 3.313148\n",
      "Nearest to about: regulus, over, gracious, glossy, gamespy, maneuver, bitola, medians,\n",
      "Nearest to so: too, then, subterfuge, sackville, chickens, pleases, sometimes, runs,\n",
      "Nearest to which: that, this, who, but, also, there, often, it,\n",
      "Nearest to system: systems, cellular, program, line, supplier, albers, networking, caria,\n",
      "Nearest to his: her, their, my, its, our, whose, your, the,\n",
      "Nearest to some: many, several, various, these, any, most, certain, both,\n",
      "Nearest to there: they, it, he, now, she, we, westcott, usually,\n",
      "Nearest to can: will, could, may, should, would, must, cannot, might,\n",
      "Nearest to that: which, however, what, where, but, prolong, injure, this,\n",
      "Nearest to during: after, in, before, under, until, when, from, within,\n",
      "Nearest to three: four, five, two, six, seven, eight, nine, zero,\n",
      "Nearest to six: seven, four, eight, five, nine, three, two, zero,\n",
      "Nearest to when: if, though, before, where, while, after, although, until,\n",
      "Nearest to new: eutelsat, rashid, ey, rhine, anc, unlock, virtual, knopf,\n",
      "Nearest to no: any, sex, every, fdr, another, ime, compare, pirin,\n",
      "Nearest to for: after, of, bodkin, itu, bendis, supporting, cns, magee,\n",
      "Average loss at step 92000: 3.190187\n",
      "Average loss at step 94000: 3.328594\n",
      "Average loss at step 96000: 3.344640\n",
      "Average loss at step 98000: 3.347592\n",
      "Average loss at step 100000: 3.349622\n",
      "Nearest to about: regulus, gracious, over, atheromatous, ragged, regarding, cyg, glossy,\n",
      "Nearest to so: then, too, chickens, subterfuge, payback, feel, recast, if,\n",
      "Nearest to which: this, that, what, who, also, usually, cornelia, often,\n",
      "Nearest to system: systems, cellular, program, line, supplier, intergalactic, uthman, linspire,\n",
      "Nearest to his: her, their, my, its, our, your, the, whose,\n",
      "Nearest to some: many, several, various, these, any, those, both, certain,\n",
      "Nearest to there: they, it, she, he, we, now, usually, still,\n",
      "Nearest to can: could, will, may, must, should, would, cannot, might,\n",
      "Nearest to that: which, what, however, where, this, hygienic, endings, because,\n",
      "Nearest to during: after, in, before, when, under, until, within, despite,\n",
      "Nearest to three: four, six, five, seven, two, eight, nine, zero,\n",
      "Nearest to six: eight, four, seven, nine, five, three, zero, two,\n",
      "Nearest to when: if, though, before, while, after, where, during, until,\n",
      "Nearest to new: rashid, virtual, eutelsat, previous, cover, vest, ey, cleve,\n",
      "Nearest to no: any, nothing, fdr, another, usurpers, sex, she, there,\n",
      "Nearest to for: including, by, in, of, itu, against, sanitarium, if,\n"
     ]
    }
   ],
   "source": [
    "num_steps = 100001\n",
    "\n",
    "with tf.Session(graph=graph) as session:\n",
    "  tf.global_variables_initializer().run()\n",
    "  print('Initialized')\n",
    "  average_loss = 0\n",
    "  for step in range(num_steps):\n",
    "    batch_data, batch_labels = generate_batch(\n",
    "      batch_size, num_skips, skip_window)\n",
    "    feed_dict = {train_dataset : batch_data, train_labels : batch_labels}\n",
    "    _, l = session.run([optimizer, loss], feed_dict=feed_dict)\n",
    "    average_loss += l\n",
    "    if step % 2000 == 0:\n",
    "      if step > 0:\n",
    "        average_loss = average_loss / 2000\n",
    "      # The average loss is an estimate of the loss over the last 2000 batches.\n",
    "      print('Average loss at step %d: %f' % (step, average_loss))\n",
    "      average_loss = 0\n",
    "    # note that this is expensive (~20% slowdown if computed every 500 steps)\n",
    "    if step % 10000 == 0:\n",
    "      sim = similarity.eval()\n",
    "      for i in range(valid_size):\n",
    "        valid_word = reverse_dictionary[valid_examples[i]]\n",
    "        top_k = 8 # number of nearest neighbors\n",
    "        nearest = (-sim[i, :]).argsort()[1:top_k+1]\n",
    "        log = 'Nearest to %s:' % valid_word\n",
    "        for k in range(top_k):\n",
    "          close_word = reverse_dictionary[nearest[k]]\n",
    "          log = '%s %s,' % (log, close_word)\n",
    "        print(log)\n",
    "  final_embeddings = normalized_embeddings.eval()"
   ]
  },
  {
   "cell_type": "code",
   "execution_count": 30,
   "metadata": {
    "cellView": "both",
    "colab": {
     "autoexec": {
      "startup": false,
      "wait_interval": 0
     }
    },
    "colab_type": "code",
    "collapsed": true,
    "id": "jjJXYA_XzV79"
   },
   "outputs": [],
   "source": [
    "num_points = 200\n",
    "\n",
    "tsne = TSNE(perplexity=30, n_components=2, init='pca', n_iter=5000, method='exact')\n",
    "two_d_embeddings = tsne.fit_transform(final_embeddings[1:num_points+1, :])"
   ]
  },
  {
   "cell_type": "code",
   "execution_count": 31,
   "metadata": {
    "cellView": "both",
    "colab": {
     "autoexec": {
      "startup": false,
      "wait_interval": 0
     },
     "output_extras": [
      {
       "item_id": 1
      }
     ]
    },
    "colab_type": "code",
    "executionInfo": {
     "elapsed": 4763,
     "status": "ok",
     "timestamp": 1445965465525,
     "user": {
      "color": "#1FA15D",
      "displayName": "Vincent Vanhoucke",
      "isAnonymous": false,
      "isMe": true,
      "permissionId": "05076109866853157986",
      "photoUrl": "//lh6.googleusercontent.com/-cCJa7dTDcgQ/AAAAAAAAAAI/AAAAAAAACgw/r2EZ_8oYer4/s50-c-k-no/photo.jpg",
      "sessionId": "2f1ffade4c9f20de",
      "userId": "102167687554210253930"
     },
     "user_tz": 420
    },
    "id": "o_e0D_UezcDe",
    "outputId": "df22e4a5-e8ec-4e5e-d384-c6cf37c68c34"
   },
   "outputs": [
    {
     "data": {
      "image/png": "[encoded data removed]",
      "text/plain": [
       "<matplotlib.figure.Figure at 0x16c253828>"
      ]
     },
     "metadata": {},
     "output_type": "display_data"
    }
   ],
   "source": [
    "def plot(embeddings, labels):\n",
    "  assert embeddings.shape[0] >= len(labels), 'More labels than embeddings'\n",
    "  pylab.figure(figsize=(15,15))  # in inches\n",
    "  for i, label in enumerate(labels):\n",
    "    x, y = embeddings[i,:]\n",
    "    pylab.scatter(x, y)\n",
    "    pylab.annotate(label, xy=(x, y), xytext=(5, 2), textcoords='offset points',\n",
    "                   ha='right', va='bottom')\n",
    "  pylab.show()\n",
    "\n",
    "words = [reverse_dictionary[i] for i in range(1, num_points+1)]\n",
    "plot(two_d_embeddings, words)"
   ]
  },
  {
   "cell_type": "markdown",
   "metadata": {
    "colab_type": "text",
    "id": "QB5EFrBnpNnc"
   },
   "source": [
    "---\n",
    "\n",
    "Problem\n",
    "-------\n",
    "\n",
    "An alternative to skip-gram is another Word2Vec model called [CBOW](http://arxiv.org/abs/1301.3781) (Continuous Bag of Words). In the CBOW model, instead of predicting a context word from a word vector, you predict a word from the sum of all the word vectors in its context. Implement and evaluate a CBOW model trained on the text8 dataset.\n",
    "\n",
    "---"
   ]
  },
  {
   "cell_type": "code",
   "execution_count": 29,
   "metadata": {
    "collapsed": true
   },
   "outputs": [],
   "source": [
    "def generate_batch_cbow(batch_size, skip_window):\n",
    "  global data_index\n",
    "  batch = np.ndarray(shape=(batch_size, 2 * skip_window), dtype=np.int32)\n",
    "  labels = np.ndarray(shape=(batch_size, 1), dtype=np.int32)\n",
    "\n",
    "  span = 2 * skip_window + 1 # [ skip_window target skip_window ]\n",
    "\n",
    "\n",
    "  buffer = collections.deque(maxlen=span)\n",
    "  for _ in range(span):\n",
    "    buffer.append(data[data_index])\n",
    "    data_index = (data_index + 1) % len(data)\n",
    "\n",
    "  for i in range(batch_size):\n",
    "    target = skip_window  # target label at the center of the buffer\n",
    "    for j in range(skip_window):\n",
    "      batch[i, j] = buffer[j]\n",
    "      batch[i, j + skip_window] = buffer[j + skip_window + 1]\n",
    "\n",
    "    labels[i, 0] = buffer[target]\n",
    "    buffer.append(data[data_index])\n",
    "    data_index = (data_index + 1) % len(data)\n",
    "\n",
    "  return batch, labels"
   ]
  },
  {
   "cell_type": "code",
   "execution_count": 33,
   "metadata": {},
   "outputs": [
    {
     "name": "stdout",
     "output_type": "stream",
     "text": [
      "data: ['anarchism', 'originated', 'as', 'a', 'term', 'of', 'abuse', 'first']\n",
      "\n",
      "with skip_window = 2:\n",
      "    batch: ['anarchism', 'originated', 'a', 'term']\n",
      "    labels: ['as', 'a', 'term', 'of', 'abuse', 'first', 'used', 'against']\n",
      "\n",
      "with skip_window = 4:\n",
      "    batch: ['anarchism', 'originated', 'as', 'a', 'of', 'abuse', 'first', 'used']\n",
      "    labels: ['term', 'of', 'abuse', 'first', 'used', 'against', 'early', 'working']\n"
     ]
    }
   ],
   "source": [
    "print('data:', [reverse_dictionary[di] for di in data[:8]])\n",
    "\n",
    "for skip_window in [2, 4]:\n",
    "    data_index = 0\n",
    "    batch, labels = generate_batch_cbow(batch_size=8, skip_window=skip_window)\n",
    "    print('\\nwith skip_window = %d:' % (skip_window))\n",
    "    print('    batch:', [reverse_dictionary[bi] for bi in batch[0]])\n",
    "    print('    labels:', [reverse_dictionary[li] for li in labels.reshape(8)])"
   ]
  },
  {
   "cell_type": "code",
   "execution_count": 35,
   "metadata": {},
   "outputs": [
    {
     "name": "stdout",
     "output_type": "stream",
     "text": [
      "(128, 2, 128)\n",
      "(50000, 128)\n",
      "(128, 1)\n",
      "(50000, 128)\n",
      "(50000, 1)\n",
      "(16, 50000)\n",
      "(16, 128)\n",
      "(50000, 128)\n"
     ]
    }
   ],
   "source": [
    "batch_size = 128\n",
    "embedding_size = 128 # Dimension of the embedding vector.\n",
    "skip_window = 1 # How many words to consider left and right.\n",
    "\n",
    "# We pick a random validation set to sample nearest neighbors. here we limit the\n",
    "# validation samples to the words that have a low numeric ID, which by\n",
    "# construction are also the most frequent. \n",
    "valid_size = 16 # Random set of words to evaluate similarity on.\n",
    "valid_window = 100 # Only pick dev samples in the head of the distribution.\n",
    "valid_examples = np.array(random.sample(range(valid_window), valid_size))\n",
    "num_sampled = 64 # Number of negative examples to sample.\n",
    "\n",
    "graph = tf.Graph()\n",
    "\n",
    "with graph.as_default(), tf.device('/cpu:0'):\n",
    "\n",
    "  # Input data.\n",
    "  train_dataset = tf.placeholder(tf.int32, shape=[batch_size, 2 * skip_window])\n",
    "  train_labels = tf.placeholder(tf.int32, shape=[batch_size, 1])\n",
    "  valid_dataset = tf.constant(valid_examples, dtype=tf.int32)\n",
    "  \n",
    "  # Variables.\n",
    "  embeddings = tf.Variable(\n",
    "    tf.random_uniform([vocabulary_size, embedding_size], -1.0, 1.0))\n",
    "  softmax_weights = tf.Variable(\n",
    "    tf.truncated_normal([vocabulary_size, embedding_size],\n",
    "                         stddev=1.0 / math.sqrt(embedding_size)))\n",
    "  softmax_biases = tf.Variable(tf.zeros([vocabulary_size]))\n",
    "  \n",
    "  # Model.\n",
    "  # Look up embeddings for inputs.\n",
    "  embed = tf.nn.embedding_lookup(embeddings, train_dataset)\n",
    "  print(embed.shape)\n",
    "  print(softmax_weights.shape)\n",
    "  print(train_labels.shape)\n",
    "  # Compute the softmax loss, using a sample of the negative labels each time.\n",
    "  loss = tf.reduce_mean(\n",
    "    tf.nn.sampled_softmax_loss(weights=softmax_weights, biases=softmax_biases, inputs=tf.reduce_sum(embed, 1),\n",
    "                               labels=train_labels, num_sampled=num_sampled, num_classes=vocabulary_size))\n",
    "\n",
    "  # Optimizer.\n",
    "  # Note: The optimizer will optimize the softmax_weights AND the embeddings.\n",
    "  # This is because the embeddings are defined as a variable quantity and the\n",
    "  # optimizer's `minimize` method will by default modify all variable quantities \n",
    "  # that contribute to the tensor it is passed.\n",
    "  # See docs on `tf.train.Optimizer.minimize()` for more details.\n",
    "  optimizer = tf.train.AdagradOptimizer(1.0).minimize(loss)\n",
    "  \n",
    "  # Compute the similarity between minibatch examples and all embeddings.\n",
    "  # We use the cosine distance:\n",
    "  norm = tf.sqrt(tf.reduce_sum(tf.square(embeddings), 1, keep_dims=True))\n",
    "  print(embeddings.shape)\n",
    "  print(norm.shape)\n",
    "  normalized_embeddings = embeddings / norm\n",
    "  valid_embeddings = tf.nn.embedding_lookup(\n",
    "    normalized_embeddings, valid_dataset)\n",
    "  similarity = tf.matmul(valid_embeddings, tf.transpose(normalized_embeddings))\n",
    "  print(similarity.shape)\n",
    "  print(valid_embeddings.shape)\n",
    "  print(normalized_embeddings.shape)"
   ]
  },
  {
   "cell_type": "code",
   "execution_count": 36,
   "metadata": {},
   "outputs": [
    {
     "name": "stdout",
     "output_type": "stream",
     "text": [
      "Initialized\n",
      "Average loss at step 0: 8.020641\n",
      "Nearest to state: stad, educated, dick, ping, proceed, whalers, laguna, replayed,\n",
      "Nearest to been: dissociated, organised, caddy, generations, catcher, spline, eases, chaplin,\n",
      "Nearest to he: vue, soi, nasl, burdened, preceded, prepubescent, cube, adelaide,\n",
      "Nearest to on: naturalisation, touristic, roster, inge, trafford, mentored, rapier, freenet,\n",
      "Nearest to is: taiko, slow, boardwalk, incidents, assaults, paleontologists, dandies, sefirot,\n",
      "Nearest to see: isthmus, cma, schooled, diderot, fugitive, fortify, kuiper, shrine,\n",
      "Nearest to nine: afterword, faux, immaculate, posix, preparatory, communications, unicef, klister,\n",
      "Nearest to some: kliper, alkoxide, dramatically, pilots, input, transporters, aluminium, fate,\n",
      "Nearest to they: surprise, anzac, turks, cuc, fowler, best, calico, retrospect,\n",
      "Nearest to used: proven, mature, saarland, bluntly, turret, sewers, brokerage, honoring,\n",
      "Nearest to were: merry, asterisk, headquarters, bankers, cusp, visible, vl, mosquitos,\n",
      "Nearest to use: replication, barnet, challenging, recites, salieri, laureates, bicameral, marais,\n",
      "Nearest to years: season, linkage, silurian, dubbing, chimes, criollo, saltire, amaranthus,\n",
      "Nearest to one: alvaro, journalists, nuke, had, wittelsbach, outlets, sada, cutter,\n",
      "Nearest to which: hwv, whodunit, awkward, cva, elphinstone, stake, fanbase, deleted,\n",
      "Nearest to eight: mythologie, shaker, ftp, plagues, ridges, amortized, fingerspelling, specializing,\n",
      "Average loss at step 2000: 4.095472\n",
      "Average loss at step 4000: 3.555074\n",
      "Average loss at step 6000: 3.388109\n",
      "Average loss at step 8000: 3.242880\n",
      "Average loss at step 10000: 3.177217\n",
      "Nearest to state: ping, biodiversity, fief, reduction, dick, interred, upheaval, bottled,\n",
      "Nearest to been: were, meo, artemis, dissociated, was, beni, become, heresy,\n",
      "Nearest to he: it, they, she, who, there, biafra, originally, beet,\n",
      "Nearest to on: in, touristic, medi, at, oa, mentored, bruin, tee,\n",
      "Nearest to is: was, has, are, does, beatification, were, ghb, mercalli,\n",
      "Nearest to see: gentis, visceral, tim, vo, chieftain, schooled, jak, intermittently,\n",
      "Nearest to nine: eight, six, seven, five, four, zero, three, two,\n",
      "Nearest to some: many, these, all, most, alkoxide, universit, molasses, boarding,\n",
      "Nearest to they: he, we, there, you, it, often, who, friulian,\n",
      "Nearest to used: mature, proven, pennies, sewers, quicktime, found, known, marguerite,\n",
      "Nearest to were: are, had, was, have, been, be, intergalactic, bose,\n",
      "Nearest to use: addition, genetic, loosely, yeo, ringed, blume, humanist, contributed,\n",
      "Nearest to years: decades, silurian, season, abstention, dubbing, easternmost, linkage, seele,\n",
      "Nearest to one: two, four, eight, three, six, seven, nine, zero,\n",
      "Nearest to which: that, this, who, it, also, bourgeoisie, what, fanbase,\n",
      "Nearest to eight: nine, six, seven, four, five, three, zero, two,\n",
      "Average loss at step 12000: 3.200071\n",
      "Average loss at step 14000: 3.153260\n",
      "Average loss at step 16000: 3.179211\n",
      "Average loss at step 18000: 3.125220\n",
      "Average loss at step 20000: 2.994778\n",
      "Nearest to state: government, biodiversity, states, reduction, accomplishment, upheaval, website, atomism,\n",
      "Nearest to been: become, be, was, were, caesarea, artemis, meo, dissociated,\n",
      "Nearest to he: it, she, they, who, never, there, i, we,\n",
      "Nearest to on: upon, boyfriend, in, touristic, mjt, about, mestizos, neoplatonist,\n",
      "Nearest to is: was, has, are, does, became, being, laurens, were,\n",
      "Nearest to see: ridiculous, while, tim, chieftain, include, iquique, intermittently, krieg,\n",
      "Nearest to nine: eight, six, seven, zero, five, four, three, two,\n",
      "Nearest to some: many, these, several, any, all, unarable, most, those,\n",
      "Nearest to they: we, he, there, you, these, it, eventually, she,\n",
      "Nearest to used: known, proven, found, mature, described, necessary, defined, regarded,\n",
      "Nearest to were: are, have, was, been, be, definitely, had, methionine,\n",
      "Nearest to use: addition, contributed, loosely, genetic, describe, humanist, because, blume,\n",
      "Nearest to years: decades, months, days, times, season, year, abstention, apathetic,\n",
      "Nearest to one: two, six, five, eight, seven, four, three, nine,\n",
      "Nearest to which: that, this, who, also, often, there, these, usually,\n",
      "Nearest to eight: six, seven, nine, four, five, three, zero, two,\n",
      "Average loss at step 22000: 3.074711\n",
      "Average loss at step 24000: 3.041258\n",
      "Average loss at step 26000: 2.997128\n",
      "Average loss at step 28000: 3.027912\n",
      "Average loss at step 30000: 3.004042\n",
      "Nearest to state: government, reduction, product, states, biodiversity, moves, ping, stigma,\n",
      "Nearest to been: become, be, dissociated, were, caesarea, insidious, bloodstream, was,\n",
      "Nearest to he: she, it, they, who, never, there, eventually, successfully,\n",
      "Nearest to on: upon, in, touristic, marsalis, mestizos, neoplatonist, plebeian, about,\n",
      "Nearest to is: was, are, has, became, does, be, includes, redshifts,\n",
      "Nearest to see: but, include, called, candela, delivers, can, references, ung,\n",
      "Nearest to nine: eight, six, seven, four, five, three, zero, two,\n",
      "Nearest to some: many, several, these, any, all, most, various, those,\n",
      "Nearest to they: we, he, there, you, she, these, eventually, it,\n",
      "Nearest to used: known, written, described, proven, seen, built, found, called,\n",
      "Nearest to were: are, was, have, including, been, those, be, definitely,\n",
      "Nearest to use: humanist, loosely, because, addition, contributed, amount, argonne, flesh,\n",
      "Nearest to years: days, decades, months, times, year, season, flourished, abstention,\n",
      "Nearest to one: two, five, three, six, seven, four, eight, nine,\n",
      "Nearest to which: that, this, who, also, what, still, bourgeoisie, usually,\n",
      "Nearest to eight: nine, seven, six, four, five, three, zero, two,\n",
      "Average loss at step 32000: 2.830774\n",
      "Average loss at step 34000: 2.954086\n",
      "Average loss at step 36000: 2.946828\n",
      "Average loss at step 38000: 2.942803\n",
      "Average loss at step 40000: 2.933126\n",
      "Nearest to state: product, government, stigma, skeptical, reduction, bowlers, city, ping,\n",
      "Nearest to been: become, be, was, were, already, dissociated, insidious, phrases,\n",
      "Nearest to he: she, it, they, there, who, we, ecc, i,\n",
      "Nearest to on: upon, vipassana, through, touristic, about, neoplatonist, tee, at,\n",
      "Nearest to is: was, has, are, became, redshifts, be, requires, makes,\n",
      "Nearest to see: include, warming, add, references, cruciform, encephalitis, candela, ridiculous,\n",
      "Nearest to nine: eight, seven, six, five, four, three, zero, two,\n",
      "Nearest to some: many, several, various, most, these, all, both, any,\n",
      "Nearest to they: we, he, you, there, she, who, fayed, veterinarian,\n",
      "Nearest to used: known, seen, referred, described, written, useful, found, designed,\n",
      "Nearest to were: are, have, was, including, had, be, been, kummer,\n",
      "Nearest to use: addition, because, change, share, knowledge, amount, skim, memetics,\n",
      "Nearest to years: days, decades, months, times, year, weeks, minutes, abstention,\n",
      "Nearest to one: two, seven, six, three, five, eight, four, lender,\n",
      "Nearest to which: this, that, also, amok, who, where, often, usually,\n",
      "Nearest to eight: nine, seven, six, five, four, three, zero, two,\n",
      "Average loss at step 42000: 2.949200\n",
      "Average loss at step 44000: 2.957113\n",
      "Average loss at step 46000: 2.906848\n",
      "Average loss at step 48000: 2.865340\n",
      "Average loss at step 50000: 2.842578\n",
      "Nearest to state: product, skeptical, states, government, bowlers, reduction, biodiversity, city,\n",
      "Nearest to been: become, be, already, was, dissociated, giotto, engenders, bloodstream,\n",
      "Nearest to he: she, it, they, who, there, we, eventually, never,\n",
      "Nearest to on: upon, through, against, under, within, in, concerning, during,\n",
      "Nearest to is: was, has, are, be, requires, became, does, includes,\n",
      "Nearest to see: include, muller, includes, cruciform, but, clad, candela, warming,\n",
      "Nearest to nine: eight, seven, six, four, five, zero, three, two,\n",
      "Nearest to some: many, several, these, any, all, most, certain, various,\n",
      "Nearest to they: we, there, you, he, she, it, these, quinine,\n",
      "Nearest to used: known, seen, described, referred, designed, written, found, necessary,\n",
      "Nearest to were: are, have, had, was, including, kummer, while, methionine,\n",
      "Nearest to use: share, sense, endometrium, treatment, change, argonne, rest, glazer,\n",
      "Nearest to years: days, decades, months, times, weeks, year, minutes, hours,\n",
      "Nearest to one: two, seven, four, six, three, eight, zero, nine,\n",
      "Nearest to which: that, this, usually, what, typically, also, often, it,\n",
      "Nearest to eight: nine, seven, four, six, five, zero, three, two,\n"
     ]
    },
    {
     "name": "stdout",
     "output_type": "stream",
     "text": [
      "Average loss at step 52000: 2.888921\n",
      "Average loss at step 54000: 2.864635\n",
      "Average loss at step 56000: 2.862614\n",
      "Average loss at step 58000: 2.752608\n",
      "Average loss at step 60000: 2.836266\n",
      "Nearest to state: product, skeptical, states, reduction, tiberian, caiman, sib, ky,\n",
      "Nearest to been: be, become, were, already, dissociated, being, was, caesarea,\n",
      "Nearest to he: she, it, they, there, who, we, eventually, never,\n",
      "Nearest to on: upon, through, within, in, at, medi, vipassana, under,\n",
      "Nearest to is: was, has, are, does, exists, requires, becomes, contains,\n",
      "Nearest to see: include, references, cruciform, includes, refer, but, uruguayan, encephalitis,\n",
      "Nearest to nine: eight, seven, six, five, four, zero, three, one,\n",
      "Nearest to some: many, several, any, all, these, certain, various, each,\n",
      "Nearest to they: we, you, he, there, she, it, who, mutable,\n",
      "Nearest to used: described, seen, known, designed, found, referred, accepted, considered,\n",
      "Nearest to were: are, had, was, have, been, be, including, began,\n",
      "Nearest to use: endometrium, share, sense, need, most, because, speak, argonne,\n",
      "Nearest to years: days, decades, months, times, weeks, year, minutes, centuries,\n",
      "Nearest to one: two, seven, four, six, three, five, eight, nine,\n",
      "Nearest to which: that, what, this, also, who, usually, bourgeoisie, typically,\n",
      "Nearest to eight: nine, seven, six, five, four, three, zero, two,\n",
      "Average loss at step 62000: 2.832289\n",
      "Average loss at step 64000: 2.778480\n",
      "Average loss at step 66000: 2.762640\n",
      "Average loss at step 68000: 2.710176\n",
      "Average loss at step 70000: 2.786964\n",
      "Nearest to state: product, states, skeptical, tiberian, reduction, bowlers, caiman, government,\n",
      "Nearest to been: become, be, were, already, engenders, was, caesarea, dissociated,\n",
      "Nearest to he: she, it, they, who, eventually, there, we, never,\n",
      "Nearest to on: upon, under, within, at, in, through, vipassana, around,\n",
      "Nearest to is: was, has, are, contains, includes, became, makes, exists,\n",
      "Nearest to see: include, includes, unforgettable, umberto, alomari, lemur, references, cruciform,\n",
      "Nearest to nine: eight, seven, six, five, four, three, zero, two,\n",
      "Nearest to some: many, several, any, these, certain, various, numerous, most,\n",
      "Nearest to they: we, he, you, she, there, it, who, mutable,\n",
      "Nearest to used: seen, referred, described, allowed, designed, applied, known, found,\n",
      "Nearest to were: are, was, have, had, those, been, be, including,\n",
      "Nearest to use: endometrium, sense, experience, speak, share, allow, sure, need,\n",
      "Nearest to years: days, decades, months, times, weeks, year, minutes, centuries,\n",
      "Nearest to one: two, three, six, seven, five, four, eight, zero,\n",
      "Nearest to which: that, this, also, usually, what, louisa, who, typically,\n",
      "Nearest to eight: seven, nine, six, five, four, three, zero, two,\n",
      "Average loss at step 72000: 2.799297\n",
      "Average loss at step 74000: 2.644908\n",
      "Average loss at step 76000: 2.801663\n",
      "Average loss at step 78000: 2.824629\n",
      "Average loss at step 80000: 2.775649\n",
      "Nearest to state: states, product, skeptical, sib, government, swordsmiths, alliteration, stigma,\n",
      "Nearest to been: become, be, was, were, already, remained, recently, caesarea,\n",
      "Nearest to he: she, it, they, there, who, eventually, distillers, i,\n",
      "Nearest to on: upon, in, concerning, vipassana, around, under, marsalis, medi,\n",
      "Nearest to is: was, has, becomes, became, are, remains, makes, exists,\n",
      "Nearest to see: include, but, includes, umberto, glitter, cruciform, prolegomena, known,\n",
      "Nearest to nine: eight, six, seven, five, four, zero, three, two,\n",
      "Nearest to some: many, several, certain, any, these, various, all, those,\n",
      "Nearest to they: we, you, he, there, she, i, these, it,\n",
      "Nearest to used: seen, known, referred, described, designed, applied, required, useful,\n",
      "Nearest to were: are, have, was, had, including, those, been, include,\n",
      "Nearest to use: endometrium, sense, share, experience, need, treatment, allow, recipient,\n",
      "Nearest to years: days, decades, months, times, minutes, weeks, year, centuries,\n",
      "Nearest to one: two, three, seven, four, six, five, eight, nine,\n",
      "Nearest to which: that, this, what, usually, also, typically, who, but,\n",
      "Nearest to eight: six, nine, seven, five, four, three, zero, two,\n",
      "Average loss at step 82000: 2.667468\n",
      "Average loss at step 84000: 2.772085\n",
      "Average loss at step 86000: 2.738659\n",
      "Average loss at step 88000: 2.757883\n",
      "Average loss at step 90000: 2.741194\n",
      "Nearest to state: product, government, skeptical, stigma, reduction, helpless, national, harpists,\n",
      "Nearest to been: become, be, caesarea, already, recently, was, remained, engenders,\n",
      "Nearest to he: she, it, they, there, who, never, shunting, we,\n",
      "Nearest to on: upon, in, concerning, through, vipassana, at, medi, under,\n",
      "Nearest to is: was, has, are, became, becomes, exists, contains, appears,\n",
      "Nearest to see: include, references, but, umberto, glitter, external, includes, add,\n",
      "Nearest to nine: eight, seven, six, four, five, zero, three, th,\n",
      "Nearest to some: many, several, certain, these, numerous, any, most, various,\n",
      "Nearest to they: we, you, he, there, she, i, it, friulian,\n",
      "Nearest to used: seen, referred, designed, described, known, applied, required, given,\n",
      "Nearest to were: are, have, had, was, those, methionine, including, tend,\n",
      "Nearest to use: sense, endometrium, share, speak, need, satisfy, allow, lose,\n",
      "Nearest to years: days, decades, months, minutes, weeks, times, centuries, year,\n",
      "Nearest to one: two, four, six, seven, three, eight, five, nine,\n",
      "Nearest to which: that, this, what, typically, usually, also, actually, who,\n",
      "Nearest to eight: six, seven, nine, four, five, three, zero, two,\n",
      "Average loss at step 92000: 2.682006\n",
      "Average loss at step 94000: 2.720695\n",
      "Average loss at step 96000: 2.700174\n",
      "Average loss at step 98000: 2.367916\n",
      "Average loss at step 100000: 2.399133\n",
      "Nearest to state: product, states, skeptical, reduction, harpists, palestine, city, tenniel,\n",
      "Nearest to been: become, be, were, was, already, caesarea, remained, come,\n",
      "Nearest to he: she, they, it, there, we, never, who, even,\n",
      "Nearest to on: upon, concerning, vipassana, at, quiz, touristic, marsalis, through,\n",
      "Nearest to is: was, has, became, exists, are, remains, contains, appears,\n",
      "Nearest to see: include, references, glitter, includes, external, called, umberto, refers,\n",
      "Nearest to nine: eight, seven, six, five, four, zero, three, two,\n",
      "Nearest to some: many, several, certain, any, numerous, various, these, all,\n",
      "Nearest to they: we, he, you, there, she, i, it, who,\n",
      "Nearest to used: seen, referred, applied, known, required, designed, described, needed,\n",
      "Nearest to were: are, have, was, been, those, be, is, had,\n",
      "Nearest to use: speak, share, sense, endometrium, usage, recipient, allow, cause,\n",
      "Nearest to years: days, decades, months, weeks, minutes, centuries, year, hours,\n",
      "Nearest to one: two, three, five, four, six, seven, colspan, holiest,\n",
      "Nearest to which: that, what, this, also, who, usually, typically, finally,\n",
      "Nearest to eight: nine, six, seven, five, four, three, zero, two,\n"
     ]
    }
   ],
   "source": [
    "num_steps = 100001\n",
    "\n",
    "with tf.Session(graph=graph) as session:\n",
    "  tf.global_variables_initializer().run()\n",
    "  print('Initialized')\n",
    "  average_loss = 0\n",
    "  for step in range(num_steps):\n",
    "    batch_data, batch_labels = generate_batch_cbow(\n",
    "      batch_size, skip_window)\n",
    "    feed_dict = {train_dataset : batch_data, train_labels : batch_labels}\n",
    "    _, l = session.run([optimizer, loss], feed_dict=feed_dict)\n",
    "    average_loss += l\n",
    "    if step % 2000 == 0:\n",
    "      if step > 0:\n",
    "        average_loss = average_loss / 2000\n",
    "      # The average loss is an estimate of the loss over the last 2000 batches.\n",
    "      print('Average loss at step %d: %f' % (step, average_loss))\n",
    "      average_loss = 0\n",
    "    # note that this is expensive (~20% slowdown if computed every 500 steps)\n",
    "    if step % 10000 == 0:\n",
    "      sim = similarity.eval()\n",
    "      for i in range(valid_size):\n",
    "        valid_word = reverse_dictionary[valid_examples[i]]\n",
    "        top_k = 8 # number of nearest neighbors\n",
    "        nearest = (-sim[i, :]).argsort()[1:top_k+1]\n",
    "        log = 'Nearest to %s:' % valid_word\n",
    "        for k in range(top_k):\n",
    "          close_word = reverse_dictionary[nearest[k]]\n",
    "          log = '%s %s,' % (log, close_word)\n",
    "        print(log)\n",
    "  final_embeddings = normalized_embeddings.eval()"
   ]
  },
  {
   "cell_type": "code",
   "execution_count": null,
   "metadata": {
    "collapsed": true
   },
   "outputs": [],
   "source": []
  }
 ],
 "metadata": {
  "colab": {
   "default_view": {},
   "name": "5_word2vec.ipynb",
   "provenance": [],
   "version": "0.3.2",
   "views": {}
  },
  "kernelspec": {
   "display_name": "Python 3",
   "language": "python",
   "name": "python3"
  },
  "language_info": {
   "codemirror_mode": {
    "name": "ipython",
    "version": 3
   },
   "file_extension": ".py",
   "mimetype": "text/x-python",
   "name": "python",
   "nbconvert_exporter": "python",
   "pygments_lexer": "ipython3",
   "version": "3.5.2"
  },
  "widgets": {
   "state": {},
   "version": "1.1.2"
  }
 },
 "nbformat": 4,
 "nbformat_minor": 1
}
